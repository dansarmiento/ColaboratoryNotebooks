{
  "nbformat": 4,
  "nbformat_minor": 0,
  "metadata": {
    "colab": {
      "name": "Keras.ipynb",
      "provenance": [],
      "authorship_tag": "ABX9TyPAxxwkAhsgRlemmqI9ZvwI",
      "include_colab_link": true
    },
    "kernelspec": {
      "name": "python3",
      "display_name": "Python 3"
    },
    "language_info": {
      "name": "python"
    }
  },
  "cells": [
    {
      "cell_type": "markdown",
      "metadata": {
        "id": "view-in-github",
        "colab_type": "text"
      },
      "source": [
        "<a href=\"https://colab.research.google.com/github/dansarmiento/ColaboratoryRunningAnalysis/blob/main/Keras.ipynb\" target=\"_parent\"><img src=\"https://colab.research.google.com/assets/colab-badge.svg\" alt=\"Open In Colab\"/></a>"
      ]
    },
    {
      "cell_type": "code",
      "execution_count": 1,
      "metadata": {
        "id": "-qokZJfSPtpA"
      },
      "outputs": [],
      "source": [
        "import keras\n",
        "from tensorflow.keras.utils import to_categorical"
      ]
    },
    {
      "cell_type": "code",
      "source": [
        "keras.backend.backend()"
      ],
      "metadata": {
        "colab": {
          "base_uri": "https://localhost:8080/",
          "height": 38
        },
        "id": "vuZDw1w0WwR-",
        "outputId": "ed95fb14-ab20-4582-c850-86601db06076"
      },
      "execution_count": 2,
      "outputs": [
        {
          "output_type": "execute_result",
          "data": {
            "text/plain": [
              "'tensorflow'"
            ],
            "application/vnd.google.colaboratory.intrinsic+json": {
              "type": "string"
            }
          },
          "metadata": {},
          "execution_count": 2
        }
      ]
    },
    {
      "cell_type": "code",
      "source": [
        "from keras.datasets import mnist"
      ],
      "metadata": {
        "id": "TRBimU0aW_qL"
      },
      "execution_count": 3,
      "outputs": []
    },
    {
      "cell_type": "code",
      "source": [
        "# set up train and test splits\n",
        "(x_train, y_train), (x_test, y_test) = mnist.load_data()"
      ],
      "metadata": {
        "id": "1awC6zJaXPML"
      },
      "execution_count": 4,
      "outputs": []
    },
    {
      "cell_type": "code",
      "source": [
        "from random import randint\n",
        "from matplotlib import pyplot\n",
        "%matplotlib inline "
      ],
      "metadata": {
        "id": "jw_UdITgXs-C"
      },
      "execution_count": 5,
      "outputs": []
    },
    {
      "cell_type": "code",
      "source": [
        "# look at images in the training model\n",
        "pyplot.imshow(x_train[randint(0,x_train.shape[0])],cmap='gray_r');"
      ],
      "metadata": {
        "colab": {
          "base_uri": "https://localhost:8080/",
          "height": 265
        },
        "id": "ULn-xw-KX5OG",
        "outputId": "da14bf62-2f2a-450b-80d0-cda558154783"
      },
      "execution_count": 6,
      "outputs": [
        {
          "output_type": "display_data",
          "data": {
            "text/plain": [
              "<Figure size 432x288 with 1 Axes>"
            ],
            "image/png": "[encoded data removed]"
          },
          "metadata": {
            "needs_background": "light"
          }
        }
      ]
    },
    {
      "cell_type": "code",
      "source": [
        "# munge data \n",
        "# transform from matrix to vector, cast, and normalize\n",
        "image_size = 28*28\n",
        "x_train = x_train.reshape(x_train.shape[0],image_size)\n",
        "x_train = x_train.astype('float32')\n",
        "x_train /= 255\n",
        "\n",
        "x_test = x_test.reshape(x_test.shape[0],image_size)\n",
        "x_test = x_test.astype('float32')\n",
        "x_test /= 255"
      ],
      "metadata": {
        "id": "-evkJfTXZAJA"
      },
      "execution_count": 7,
      "outputs": []
    },
    {
      "cell_type": "code",
      "source": [
        "# convert class vectors to binary class matrices\n",
        "y_train = to_categorical(y_train, 10)\n",
        "t_test = to_categorical(y_test, 10)"
      ],
      "metadata": {
        "id": "1s0jX141aYEm"
      },
      "execution_count": 8,
      "outputs": []
    },
    {
      "cell_type": "code",
      "source": [
        "# import the most common type of neural network\n",
        "from keras.models import Sequential\n"
      ],
      "metadata": {
        "id": "uypCuoVDawzN"
      },
      "execution_count": 9,
      "outputs": []
    },
    {
      "cell_type": "code",
      "source": [
        "# define model instance\n",
        "model = Sequential()"
      ],
      "metadata": {
        "id": "pF_PO1wTcOkE"
      },
      "execution_count": 10,
      "outputs": []
    },
    {
      "cell_type": "code",
      "source": [
        "# import the mmost common type of network layer, fully interconnected\n",
        "from keras.layers import Dense"
      ],
      "metadata": {
        "id": "dNgt9N1mcVZr"
      },
      "execution_count": 11,
      "outputs": []
    },
    {
      "cell_type": "code",
      "source": [
        "# define input layer, the units are kind of arbitrary\n",
        "layer_input = Dense(units=512,\n",
        "                    activation='sigmoid',\n",
        "                    input_shape=(image_size,))\n",
        "model.add(layer_input)"
      ],
      "metadata": {
        "id": "jRMSuRDichIp"
      },
      "execution_count": 12,
      "outputs": []
    },
    {
      "cell_type": "code",
      "source": [
        "# define another layer\n",
        "model.add(Dense(units=512, activation='sigmoid'))"
      ],
      "metadata": {
        "id": "OvUJIb75c_jl"
      },
      "execution_count": 13,
      "outputs": []
    },
    {
      "cell_type": "code",
      "source": [
        "layer_output = Dense(units=10,\n",
        "                     activation='softmax')\n",
        "model.add(layer_output)"
      ],
      "metadata": {
        "id": "dwxvPjdxdZNn"
      },
      "execution_count": 14,
      "outputs": []
    },
    {
      "cell_type": "code",
      "source": [
        "# print summary of model architecture\n",
        "model.summary()"
      ],
      "metadata": {
        "colab": {
          "base_uri": "https://localhost:8080/"
        },
        "id": "XCE2qME1djLS",
        "outputId": "97a30870-3e7b-47e2-e322-e4e0720ec7c9"
      },
      "execution_count": 15,
      "outputs": [
        {
          "output_type": "stream",
          "name": "stdout",
          "text": [
            "Model: \"sequential\"\n",
            "_________________________________________________________________\n",
            " Layer (type)                Output Shape              Param #   \n",
            "=================================================================\n",
            " dense (Dense)               (None, 512)               401920    \n",
            "                                                                 \n",
            " dense_1 (Dense)             (None, 512)               262656    \n",
            "                                                                 \n",
            " dense_2 (Dense)             (None, 10)                5130      \n",
            "                                                                 \n",
            "=================================================================\n",
            "Total params: 669,706\n",
            "Trainable params: 669,706\n",
            "Non-trainable params: 0\n",
            "_________________________________________________________________\n"
          ]
        }
      ]
    },
    {
      "cell_type": "code",
      "source": [
        "# add training parameters to architecture\n",
        "model.compile(loss='categorical_crossentropy',\n",
        "              optimizer='sgd',\n",
        "              metrics=['accuracy'])"
      ],
      "metadata": {
        "id": "E95qtgPxdtHL"
      },
      "execution_count": 16,
      "outputs": []
    },
    {
      "cell_type": "code",
      "source": [
        "# train the model to learn weights\n",
        "training = model.fit(x_train, \n",
        "                     y_train,\n",
        "                     epochs=5,\n",
        "                     verbose=True,\n",
        "                     validation_split=.01)"
      ],
      "metadata": {
        "colab": {
          "base_uri": "https://localhost:8080/"
        },
        "id": "mKK6JyriecY8",
        "outputId": "d398d52d-997a-45fd-883d-00ba204c2383"
      },
      "execution_count": 17,
      "outputs": [
        {
          "output_type": "stream",
          "name": "stdout",
          "text": [
            "Epoch 1/5\n",
            "1857/1857 [==============================] - 15s 7ms/step - loss: 2.1208 - accuracy: 0.3587 - val_loss: 1.7990 - val_accuracy: 0.5667\n",
            "Epoch 2/5\n",
            "1857/1857 [==============================] - 14s 8ms/step - loss: 1.3575 - accuracy: 0.7032 - val_loss: 0.8767 - val_accuracy: 0.8283\n",
            "Epoch 3/5\n",
            "1857/1857 [==============================] - 14s 7ms/step - loss: 0.7920 - accuracy: 0.8061 - val_loss: 0.5420 - val_accuracy: 0.8833\n",
            "Epoch 4/5\n",
            "1857/1857 [==============================] - 14s 7ms/step - loss: 0.5909 - accuracy: 0.8439 - val_loss: 0.4190 - val_accuracy: 0.9083\n",
            "Epoch 5/5\n",
            "1857/1857 [==============================] - 18s 10ms/step - loss: 0.4984 - accuracy: 0.8645 - val_loss: 0.3662 - val_accuracy: 0.9217\n"
          ]
        }
      ]
    },
    {
      "cell_type": "code",
      "source": [
        "\"\"\"\n",
        "Keras other features include built-in functions like activation functions and optimizers\n",
        "convolutional neural network (CNN)\n",
        "recurrent neural network (RNN)\n",
        "long-short term memory (LSTM)\n",
        "pre-trained models\n",
        "focus on what you want to do instead of how\n",
        "\n",
        "linear algebra, probability, machine learning\n",
        "\"\"\""
      ],
      "metadata": {
        "id": "S9AVIoHden1t"
      },
      "execution_count": null,
      "outputs": []
    }
  ]
}