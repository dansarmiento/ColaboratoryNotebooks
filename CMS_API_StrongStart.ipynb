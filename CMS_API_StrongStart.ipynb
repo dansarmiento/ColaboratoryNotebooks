{
  "nbformat": 4,
  "nbformat_minor": 0,
  "metadata": {
    "colab": {
      "name": "CMS_API_StrongStart.ipynb",
      "provenance": [],
      "authorship_tag": "ABX9TyMprA5VmC/eft1D/uQhUEuq",
      "include_colab_link": true
    },
    "kernelspec": {
      "name": "python3",
      "display_name": "Python 3"
    },
    "language_info": {
      "name": "python"
    }
  },
  "cells": [
    {
      "cell_type": "markdown",
      "metadata": {
        "id": "view-in-github",
        "colab_type": "text"
      },
      "source": [
        "<a href=\"https://colab.research.google.com/github/dansarmiento/ColaboratoryNotebooks/blob/main/CMS_API_StrongStart.ipynb\" target=\"_parent\"><img src=\"https://colab.research.google.com/assets/colab-badge.svg\" alt=\"Open In Colab\"/></a>"
      ]
    },
    {
      "cell_type": "code",
      "execution_count": 1,
      "metadata": {
        "id": "o_McgF5ADI1Q"
      },
      "outputs": [],
      "source": [
        "import pandas as pd\n",
        "import requests"
      ]
    },
    {
      "cell_type": "markdown",
      "source": [
        "data source: https://data.cms.gov/cms-innovation-center-programs/strong-start-for-mothers-and-newborns-initiative/strong-start-awardees\n",
        "The Strong Start Awardees dataset provides information on the financial awards made to participants in the Strong Start for Mothers and Newborns Initiative. This initiative tested three evidence-based maternity care service approaches with the goal of improving health outcomes of pregnant women and newborns. The data can include the participant name, participant location, locations of practices participating under the participants’ umbrella practice, descriptive text for the type(s) of enhanced prenatal care provided, and the amount of funding awarded to the participant as a result of their participation in year 1 of the initiative."
      ],
      "metadata": {
        "id": "DyxT5KbRFDte"
      }
    },
    {
      "cell_type": "code",
      "source": [
        "response = requests.get('https://data.cms.gov/data-api/v1/dataset/647e8a75-2135-49a0-83a8-f3b12f687d18/data')\n",
        "\n",
        "if response.ok:\n",
        "  payload = response.json()\n",
        "else:\n",
        "  print(f'Request unsuccessful: {response.status_code}')\n",
        "  payload = None"
      ],
      "metadata": {
        "id": "xto8o1mHDRrq"
      },
      "execution_count": 4,
      "outputs": []
    },
    {
      "cell_type": "code",
      "source": [
        "df = pd.DataFrame(payload)\n",
        "df.head()"
      ],
      "metadata": {
        "colab": {
          "base_uri": "https://localhost:8080/",
          "height": 206
        },
        "id": "oI7KDyVTEtQF",
        "outputId": "9031e2be-e715-4013-8474-2b18c6036c64"
      },
      "execution_count": 5,
      "outputs": [
        {
          "output_type": "execute_result",
          "data": {
            "text/plain": [
              "                                        Awardee  \\\n",
              "0                          Meridian Health Plan   \n",
              "1   American Association of Birth Centers, Inc.   \n",
              "2  Texas Tech University Health Sciences Center   \n",
              "3                       HealthInsight of Nevada   \n",
              "4                        Amerigroup Corporation   \n",
              "\n",
              "                                 Awardee State  \\\n",
              "0  MI (44.661320000317914, -84.71438999959867)   \n",
              "1   PA (40.79372999993973, -77.86069999960512)   \n",
              "2   TX (31.82724000022597, -99.42676999973554)   \n",
              "3  NV (39.49323999972637, -117.07183999971608)   \n",
              "4   VA (37.54268000028196, -78.45789000012326)   \n",
              "\n",
              "       Enhanced Prenatal Care Approaches  \\\n",
              "0                    Maternity Care Home   \n",
              "1                          Birth Centers   \n",
              "2  Maternity Care Home & Group/Centering   \n",
              "3                        Group/Centering   \n",
              "4                        Group/Centering   \n",
              "\n",
              "     Location of the Enhanced Prenatal Care Services Award Amount (Year 1)   \n",
              "0                                            Jackson                 249939  \n",
              "1  Anchorage, AK; Juneau, AK; Wasilla, AK; Rogers...                1585122  \n",
              "2                                           Lubbock                  260670  \n",
              "3                                Las Vegas and Reno                  544126  \n",
              "4  Baton Rouge, LA; New Orleans, LA; and Shrevepo...                 608742  "
            ],
            "text/html": [
              "\n",
              "  <div id=\"df-1769c707-724f-45ec-9871-002710b9a875\">\n",
              "    <div class=\"colab-df-container\">\n",
              "      <div>\n",
              "<style scoped>\n",
              "    .dataframe tbody tr th:only-of-type {\n",
              "        vertical-align: middle;\n",
              "    }\n",
              "\n",
              "    .dataframe tbody tr th {\n",
              "        vertical-align: top;\n",
              "    }\n",
              "\n",
              "    .dataframe thead th {\n",
              "        text-align: right;\n",
              "    }\n",
              "</style>\n",
              "<table border=\"1\" class=\"dataframe\">\n",
              "  <thead>\n",
              "    <tr style=\"text-align: right;\">\n",
              "      <th></th>\n",
              "      <th>Awardee</th>\n",
              "      <th>Awardee State</th>\n",
              "      <th>Enhanced Prenatal Care Approaches</th>\n",
              "      <th>Location of the Enhanced Prenatal Care Services</th>\n",
              "      <th>Award Amount (Year 1)</th>\n",
              "    </tr>\n",
              "  </thead>\n",
              "  <tbody>\n",
              "    <tr>\n",
              "      <th>0</th>\n",
              "      <td>Meridian Health Plan</td>\n",
              "      <td>MI (44.661320000317914, -84.71438999959867)</td>\n",
              "      <td>Maternity Care Home</td>\n",
              "      <td>Jackson</td>\n",
              "      <td>249939</td>\n",
              "    </tr>\n",
              "    <tr>\n",
              "      <th>1</th>\n",
              "      <td>American Association of Birth Centers, Inc.</td>\n",
              "      <td>PA (40.79372999993973, -77.86069999960512)</td>\n",
              "      <td>Birth Centers</td>\n",
              "      <td>Anchorage, AK; Juneau, AK; Wasilla, AK; Rogers...</td>\n",
              "      <td>1585122</td>\n",
              "    </tr>\n",
              "    <tr>\n",
              "      <th>2</th>\n",
              "      <td>Texas Tech University Health Sciences Center</td>\n",
              "      <td>TX (31.82724000022597, -99.42676999973554)</td>\n",
              "      <td>Maternity Care Home &amp; Group/Centering</td>\n",
              "      <td>Lubbock</td>\n",
              "      <td>260670</td>\n",
              "    </tr>\n",
              "    <tr>\n",
              "      <th>3</th>\n",
              "      <td>HealthInsight of Nevada</td>\n",
              "      <td>NV (39.49323999972637, -117.07183999971608)</td>\n",
              "      <td>Group/Centering</td>\n",
              "      <td>Las Vegas and Reno</td>\n",
              "      <td>544126</td>\n",
              "    </tr>\n",
              "    <tr>\n",
              "      <th>4</th>\n",
              "      <td>Amerigroup Corporation</td>\n",
              "      <td>VA (37.54268000028196, -78.45789000012326)</td>\n",
              "      <td>Group/Centering</td>\n",
              "      <td>Baton Rouge, LA; New Orleans, LA; and Shrevepo...</td>\n",
              "      <td>608742</td>\n",
              "    </tr>\n",
              "  </tbody>\n",
              "</table>\n",
              "</div>\n",
              "      <button class=\"colab-df-convert\" onclick=\"convertToInteractive('df-1769c707-724f-45ec-9871-002710b9a875')\"\n",
              "              title=\"Convert this dataframe to an interactive table.\"\n",
              "              style=\"display:none;\">\n",
              "        \n",
              "  <svg xmlns=\"http://www.w3.org/2000/svg\" height=\"24px\"viewBox=\"0 0 24 24\"\n",
              "       width=\"24px\">\n",
              "    <path d=\"M0 0h24v24H0V0z\" fill=\"none\"/>\n",
              "    <path d=\"M18.56 5.44l.94 2.06.94-2.06 2.06-.94-2.06-.94-.94-2.06-.94 2.06-2.06.94zm-11 1L8.5 8.5l.94-2.06 2.06-.94-2.06-.94L8.5 2.5l-.94 2.06-2.06.94zm10 10l.94 2.06.94-2.06 2.06-.94-2.06-.94-.94-2.06-.94 2.06-2.06.94z\"/><path d=\"M17.41 7.96l-1.37-1.37c-.4-.4-.92-.59-1.43-.59-.52 0-1.04.2-1.43.59L10.3 9.45l-7.72 7.72c-.78.78-.78 2.05 0 2.83L4 21.41c.39.39.9.59 1.41.59.51 0 1.02-.2 1.41-.59l7.78-7.78 2.81-2.81c.8-.78.8-2.07 0-2.86zM5.41 20L4 18.59l7.72-7.72 1.47 1.35L5.41 20z\"/>\n",
              "  </svg>\n",
              "      </button>\n",
              "      \n",
              "  <style>\n",
              "    .colab-df-container {\n",
              "      display:flex;\n",
              "      flex-wrap:wrap;\n",
              "      gap: 12px;\n",
              "    }\n",
              "\n",
              "    .colab-df-convert {\n",
              "      background-color: #E8F0FE;\n",
              "      border: none;\n",
              "      border-radius: 50%;\n",
              "      cursor: pointer;\n",
              "      display: none;\n",
              "      fill: #1967D2;\n",
              "      height: 32px;\n",
              "      padding: 0 0 0 0;\n",
              "      width: 32px;\n",
              "    }\n",
              "\n",
              "    .colab-df-convert:hover {\n",
              "      background-color: #E2EBFA;\n",
              "      box-shadow: 0px 1px 2px rgba(60, 64, 67, 0.3), 0px 1px 3px 1px rgba(60, 64, 67, 0.15);\n",
              "      fill: #174EA6;\n",
              "    }\n",
              "\n",
              "    [theme=dark] .colab-df-convert {\n",
              "      background-color: #3B4455;\n",
              "      fill: #D2E3FC;\n",
              "    }\n",
              "\n",
              "    [theme=dark] .colab-df-convert:hover {\n",
              "      background-color: #434B5C;\n",
              "      box-shadow: 0px 1px 3px 1px rgba(0, 0, 0, 0.15);\n",
              "      filter: drop-shadow(0px 1px 2px rgba(0, 0, 0, 0.3));\n",
              "      fill: #FFFFFF;\n",
              "    }\n",
              "  </style>\n",
              "\n",
              "      <script>\n",
              "        const buttonEl =\n",
              "          document.querySelector('#df-1769c707-724f-45ec-9871-002710b9a875 button.colab-df-convert');\n",
              "        buttonEl.style.display =\n",
              "          google.colab.kernel.accessAllowed ? 'block' : 'none';\n",
              "\n",
              "        async function convertToInteractive(key) {\n",
              "          const element = document.querySelector('#df-1769c707-724f-45ec-9871-002710b9a875');\n",
              "          const dataTable =\n",
              "            await google.colab.kernel.invokeFunction('convertToInteractive',\n",
              "                                                     [key], {});\n",
              "          if (!dataTable) return;\n",
              "\n",
              "          const docLinkHtml = 'Like what you see? Visit the ' +\n",
              "            '<a target=\"_blank\" href=https://colab.research.google.com/notebooks/data_table.ipynb>data table notebook</a>'\n",
              "            + ' to learn more about interactive tables.';\n",
              "          element.innerHTML = '';\n",
              "          dataTable['output_type'] = 'display_data';\n",
              "          await google.colab.output.renderOutput(dataTable, element);\n",
              "          const docLink = document.createElement('div');\n",
              "          docLink.innerHTML = docLinkHtml;\n",
              "          element.appendChild(docLink);\n",
              "        }\n",
              "      </script>\n",
              "    </div>\n",
              "  </div>\n",
              "  "
            ]
          },
          "metadata": {},
          "execution_count": 5
        }
      ]
    },
    {
      "cell_type": "code",
      "source": [
        "df.columns = df.columns.str.replace(' ','_')"
      ],
      "metadata": {
        "id": "w1nw3b82Ewsj"
      },
      "execution_count": 9,
      "outputs": []
    },
    {
      "cell_type": "code",
      "source": [
        "df.rename(columns={'Location_of_the_Enhanced_Prenatal_Care_Services':'Location','Award_Amount_(Year_1)_':'Award_Amount', 'Enhanced_Prenatal_Care_Approaches':'Approaches'}, inplace=True)"
      ],
      "metadata": {
        "id": "tRjZ9nUDGZPB"
      },
      "execution_count": 14,
      "outputs": []
    },
    {
      "cell_type": "code",
      "source": [
        "df.columns"
      ],
      "metadata": {
        "colab": {
          "base_uri": "https://localhost:8080/"
        },
        "id": "L4T56H4VGbr6",
        "outputId": "34a47dfe-1847-4b25-cca5-cbfcddd93b23"
      },
      "execution_count": 15,
      "outputs": [
        {
          "output_type": "execute_result",
          "data": {
            "text/plain": [
              "Index(['Awardee', 'Awardee_State', 'Approaches', 'Location', 'Award_Amount'], dtype='object')"
            ]
          },
          "metadata": {},
          "execution_count": 15
        }
      ]
    },
    {
      "cell_type": "code",
      "source": [
        "df.head()"
      ],
      "metadata": {
        "colab": {
          "base_uri": "https://localhost:8080/",
          "height": 206
        },
        "id": "j2MypNKgHGBs",
        "outputId": "ab788659-1a38-4890-cfbc-85c49ca2ce3f"
      },
      "execution_count": 16,
      "outputs": [
        {
          "output_type": "execute_result",
          "data": {
            "text/plain": [
              "                                        Awardee  \\\n",
              "0                          Meridian Health Plan   \n",
              "1   American Association of Birth Centers, Inc.   \n",
              "2  Texas Tech University Health Sciences Center   \n",
              "3                       HealthInsight of Nevada   \n",
              "4                        Amerigroup Corporation   \n",
              "\n",
              "                                 Awardee_State  \\\n",
              "0  MI (44.661320000317914, -84.71438999959867)   \n",
              "1   PA (40.79372999993973, -77.86069999960512)   \n",
              "2   TX (31.82724000022597, -99.42676999973554)   \n",
              "3  NV (39.49323999972637, -117.07183999971608)   \n",
              "4   VA (37.54268000028196, -78.45789000012326)   \n",
              "\n",
              "                              Approaches  \\\n",
              "0                    Maternity Care Home   \n",
              "1                          Birth Centers   \n",
              "2  Maternity Care Home & Group/Centering   \n",
              "3                        Group/Centering   \n",
              "4                        Group/Centering   \n",
              "\n",
              "                                            Location Award_Amount  \n",
              "0                                            Jackson       249939  \n",
              "1  Anchorage, AK; Juneau, AK; Wasilla, AK; Rogers...      1585122  \n",
              "2                                           Lubbock        260670  \n",
              "3                                Las Vegas and Reno        544126  \n",
              "4  Baton Rouge, LA; New Orleans, LA; and Shrevepo...       608742  "
            ],
            "text/html": [
              "\n",
              "  <div id=\"df-ffc7623d-d368-4849-969c-8707883d9d3e\">\n",
              "    <div class=\"colab-df-container\">\n",
              "      <div>\n",
              "<style scoped>\n",
              "    .dataframe tbody tr th:only-of-type {\n",
              "        vertical-align: middle;\n",
              "    }\n",
              "\n",
              "    .dataframe tbody tr th {\n",
              "        vertical-align: top;\n",
              "    }\n",
              "\n",
              "    .dataframe thead th {\n",
              "        text-align: right;\n",
              "    }\n",
              "</style>\n",
              "<table border=\"1\" class=\"dataframe\">\n",
              "  <thead>\n",
              "    <tr style=\"text-align: right;\">\n",
              "      <th></th>\n",
              "      <th>Awardee</th>\n",
              "      <th>Awardee_State</th>\n",
              "      <th>Approaches</th>\n",
              "      <th>Location</th>\n",
              "      <th>Award_Amount</th>\n",
              "    </tr>\n",
              "  </thead>\n",
              "  <tbody>\n",
              "    <tr>\n",
              "      <th>0</th>\n",
              "      <td>Meridian Health Plan</td>\n",
              "      <td>MI (44.661320000317914, -84.71438999959867)</td>\n",
              "      <td>Maternity Care Home</td>\n",
              "      <td>Jackson</td>\n",
              "      <td>249939</td>\n",
              "    </tr>\n",
              "    <tr>\n",
              "      <th>1</th>\n",
              "      <td>American Association of Birth Centers, Inc.</td>\n",
              "      <td>PA (40.79372999993973, -77.86069999960512)</td>\n",
              "      <td>Birth Centers</td>\n",
              "      <td>Anchorage, AK; Juneau, AK; Wasilla, AK; Rogers...</td>\n",
              "      <td>1585122</td>\n",
              "    </tr>\n",
              "    <tr>\n",
              "      <th>2</th>\n",
              "      <td>Texas Tech University Health Sciences Center</td>\n",
              "      <td>TX (31.82724000022597, -99.42676999973554)</td>\n",
              "      <td>Maternity Care Home &amp; Group/Centering</td>\n",
              "      <td>Lubbock</td>\n",
              "      <td>260670</td>\n",
              "    </tr>\n",
              "    <tr>\n",
              "      <th>3</th>\n",
              "      <td>HealthInsight of Nevada</td>\n",
              "      <td>NV (39.49323999972637, -117.07183999971608)</td>\n",
              "      <td>Group/Centering</td>\n",
              "      <td>Las Vegas and Reno</td>\n",
              "      <td>544126</td>\n",
              "    </tr>\n",
              "    <tr>\n",
              "      <th>4</th>\n",
              "      <td>Amerigroup Corporation</td>\n",
              "      <td>VA (37.54268000028196, -78.45789000012326)</td>\n",
              "      <td>Group/Centering</td>\n",
              "      <td>Baton Rouge, LA; New Orleans, LA; and Shrevepo...</td>\n",
              "      <td>608742</td>\n",
              "    </tr>\n",
              "  </tbody>\n",
              "</table>\n",
              "</div>\n",
              "      <button class=\"colab-df-convert\" onclick=\"convertToInteractive('df-ffc7623d-d368-4849-969c-8707883d9d3e')\"\n",
              "              title=\"Convert this dataframe to an interactive table.\"\n",
              "              style=\"display:none;\">\n",
              "        \n",
              "  <svg xmlns=\"http://www.w3.org/2000/svg\" height=\"24px\"viewBox=\"0 0 24 24\"\n",
              "       width=\"24px\">\n",
              "    <path d=\"M0 0h24v24H0V0z\" fill=\"none\"/>\n",
              "    <path d=\"M18.56 5.44l.94 2.06.94-2.06 2.06-.94-2.06-.94-.94-2.06-.94 2.06-2.06.94zm-11 1L8.5 8.5l.94-2.06 2.06-.94-2.06-.94L8.5 2.5l-.94 2.06-2.06.94zm10 10l.94 2.06.94-2.06 2.06-.94-2.06-.94-.94-2.06-.94 2.06-2.06.94z\"/><path d=\"M17.41 7.96l-1.37-1.37c-.4-.4-.92-.59-1.43-.59-.52 0-1.04.2-1.43.59L10.3 9.45l-7.72 7.72c-.78.78-.78 2.05 0 2.83L4 21.41c.39.39.9.59 1.41.59.51 0 1.02-.2 1.41-.59l7.78-7.78 2.81-2.81c.8-.78.8-2.07 0-2.86zM5.41 20L4 18.59l7.72-7.72 1.47 1.35L5.41 20z\"/>\n",
              "  </svg>\n",
              "      </button>\n",
              "      \n",
              "  <style>\n",
              "    .colab-df-container {\n",
              "      display:flex;\n",
              "      flex-wrap:wrap;\n",
              "      gap: 12px;\n",
              "    }\n",
              "\n",
              "    .colab-df-convert {\n",
              "      background-color: #E8F0FE;\n",
              "      border: none;\n",
              "      border-radius: 50%;\n",
              "      cursor: pointer;\n",
              "      display: none;\n",
              "      fill: #1967D2;\n",
              "      height: 32px;\n",
              "      padding: 0 0 0 0;\n",
              "      width: 32px;\n",
              "    }\n",
              "\n",
              "    .colab-df-convert:hover {\n",
              "      background-color: #E2EBFA;\n",
              "      box-shadow: 0px 1px 2px rgba(60, 64, 67, 0.3), 0px 1px 3px 1px rgba(60, 64, 67, 0.15);\n",
              "      fill: #174EA6;\n",
              "    }\n",
              "\n",
              "    [theme=dark] .colab-df-convert {\n",
              "      background-color: #3B4455;\n",
              "      fill: #D2E3FC;\n",
              "    }\n",
              "\n",
              "    [theme=dark] .colab-df-convert:hover {\n",
              "      background-color: #434B5C;\n",
              "      box-shadow: 0px 1px 3px 1px rgba(0, 0, 0, 0.15);\n",
              "      filter: drop-shadow(0px 1px 2px rgba(0, 0, 0, 0.3));\n",
              "      fill: #FFFFFF;\n",
              "    }\n",
              "  </style>\n",
              "\n",
              "      <script>\n",
              "        const buttonEl =\n",
              "          document.querySelector('#df-ffc7623d-d368-4849-969c-8707883d9d3e button.colab-df-convert');\n",
              "        buttonEl.style.display =\n",
              "          google.colab.kernel.accessAllowed ? 'block' : 'none';\n",
              "\n",
              "        async function convertToInteractive(key) {\n",
              "          const element = document.querySelector('#df-ffc7623d-d368-4849-969c-8707883d9d3e');\n",
              "          const dataTable =\n",
              "            await google.colab.kernel.invokeFunction('convertToInteractive',\n",
              "                                                     [key], {});\n",
              "          if (!dataTable) return;\n",
              "\n",
              "          const docLinkHtml = 'Like what you see? Visit the ' +\n",
              "            '<a target=\"_blank\" href=https://colab.research.google.com/notebooks/data_table.ipynb>data table notebook</a>'\n",
              "            + ' to learn more about interactive tables.';\n",
              "          element.innerHTML = '';\n",
              "          dataTable['output_type'] = 'display_data';\n",
              "          await google.colab.output.renderOutput(dataTable, element);\n",
              "          const docLink = document.createElement('div');\n",
              "          docLink.innerHTML = docLinkHtml;\n",
              "          element.appendChild(docLink);\n",
              "        }\n",
              "      </script>\n",
              "    </div>\n",
              "  </div>\n",
              "  "
            ]
          },
          "metadata": {},
          "execution_count": 16
        }
      ]
    },
    {
      "cell_type": "code",
      "source": [
        "df[['State','GPS']] = df['Awardee_State'].str.split(' \\(', expand=True)\n",
        "# need to split this column\n",
        "#df[['A', 'B']] = df['AB'].str.split(' ', 1, expand=True)\n"
      ],
      "metadata": {
        "id": "lVw_eijLHYIb"
      },
      "execution_count": 20,
      "outputs": []
    },
    {
      "cell_type": "code",
      "source": [
        "df.State[0]"
      ],
      "metadata": {
        "colab": {
          "base_uri": "https://localhost:8080/",
          "height": 35
        },
        "id": "QrEY-SJSHfAH",
        "outputId": "f12975a4-3d0f-4685-c5cc-cdade09b5dc8"
      },
      "execution_count": 22,
      "outputs": [
        {
          "output_type": "execute_result",
          "data": {
            "text/plain": [
              "'MI'"
            ],
            "application/vnd.google.colaboratory.intrinsic+json": {
              "type": "string"
            }
          },
          "metadata": {},
          "execution_count": 22
        }
      ]
    },
    {
      "cell_type": "code",
      "source": [
        "df.GPS[0]"
      ],
      "metadata": {
        "colab": {
          "base_uri": "https://localhost:8080/",
          "height": 35
        },
        "id": "WyHORx4MIJOz",
        "outputId": "5b0545eb-640c-41b8-986a-9f0b3e696439"
      },
      "execution_count": 24,
      "outputs": [
        {
          "output_type": "execute_result",
          "data": {
            "text/plain": [
              "'44.661320000317914, -84.71438999959867)'"
            ],
            "application/vnd.google.colaboratory.intrinsic+json": {
              "type": "string"
            }
          },
          "metadata": {},
          "execution_count": 24
        }
      ]
    },
    {
      "cell_type": "code",
      "source": [
        "df[['Latitude','Longitude']] = df['GPS'].str.split(',', expand=True)"
      ],
      "metadata": {
        "id": "RVPj_GJJINvE"
      },
      "execution_count": 25,
      "outputs": []
    },
    {
      "cell_type": "code",
      "source": [
        "df.Longitude = df.Longitude.str.replace(')','')"
      ],
      "metadata": {
        "colab": {
          "base_uri": "https://localhost:8080/"
        },
        "id": "LNTz4R_DJctb",
        "outputId": "dfa1a4e8-8fa6-41f7-a826-73ccad9ba177"
      },
      "execution_count": 28,
      "outputs": [
        {
          "output_type": "stream",
          "name": "stderr",
          "text": [
            "/usr/local/lib/python3.7/dist-packages/ipykernel_launcher.py:1: FutureWarning: The default value of regex will change from True to False in a future version. In addition, single character regular expressions will *not* be treated as literal strings when regex=True.\n",
            "  \"\"\"Entry point for launching an IPython kernel.\n"
          ]
        }
      ]
    },
    {
      "cell_type": "code",
      "source": [
        "df.Longitude[0]"
      ],
      "metadata": {
        "colab": {
          "base_uri": "https://localhost:8080/",
          "height": 35
        },
        "id": "eyJR3bujJery",
        "outputId": "1db17774-8779-4536-97ef-ce4c76c1dbfc"
      },
      "execution_count": 30,
      "outputs": [
        {
          "output_type": "execute_result",
          "data": {
            "text/plain": [
              "' -84.71438999959867'"
            ],
            "application/vnd.google.colaboratory.intrinsic+json": {
              "type": "string"
            }
          },
          "metadata": {},
          "execution_count": 30
        }
      ]
    },
    {
      "cell_type": "code",
      "source": [
        "df.drop(['Awardee_State','GPS'], axis=1, inplace=True)"
      ],
      "metadata": {
        "id": "8zk7WPt3Jv-U"
      },
      "execution_count": 32,
      "outputs": []
    },
    {
      "cell_type": "code",
      "source": [
        "df.head()"
      ],
      "metadata": {
        "colab": {
          "base_uri": "https://localhost:8080/",
          "height": 206
        },
        "id": "4Pg4XPNuJ3nc",
        "outputId": "5f3aadb1-07bc-4113-d200-94c247a927dc"
      },
      "execution_count": 33,
      "outputs": [
        {
          "output_type": "execute_result",
          "data": {
            "text/plain": [
              "                                        Awardee  \\\n",
              "0                          Meridian Health Plan   \n",
              "1   American Association of Birth Centers, Inc.   \n",
              "2  Texas Tech University Health Sciences Center   \n",
              "3                       HealthInsight of Nevada   \n",
              "4                        Amerigroup Corporation   \n",
              "\n",
              "                              Approaches  \\\n",
              "0                    Maternity Care Home   \n",
              "1                          Birth Centers   \n",
              "2  Maternity Care Home & Group/Centering   \n",
              "3                        Group/Centering   \n",
              "4                        Group/Centering   \n",
              "\n",
              "                                            Location Award_Amount State  \\\n",
              "0                                            Jackson       249939    MI   \n",
              "1  Anchorage, AK; Juneau, AK; Wasilla, AK; Rogers...      1585122    PA   \n",
              "2                                           Lubbock        260670    TX   \n",
              "3                                Las Vegas and Reno        544126    NV   \n",
              "4  Baton Rouge, LA; New Orleans, LA; and Shrevepo...       608742    VA   \n",
              "\n",
              "             Latitude             Longitude  \n",
              "0  44.661320000317914    -84.71438999959867  \n",
              "1   40.79372999993973    -77.86069999960512  \n",
              "2   31.82724000022597    -99.42676999973554  \n",
              "3   39.49323999972637   -117.07183999971608  \n",
              "4   37.54268000028196    -78.45789000012326  "
            ],
            "text/html": [
              "\n",
              "  <div id=\"df-7a514c2b-5dc9-45aa-a707-1e843ec39dd3\">\n",
              "    <div class=\"colab-df-container\">\n",
              "      <div>\n",
              "<style scoped>\n",
              "    .dataframe tbody tr th:only-of-type {\n",
              "        vertical-align: middle;\n",
              "    }\n",
              "\n",
              "    .dataframe tbody tr th {\n",
              "        vertical-align: top;\n",
              "    }\n",
              "\n",
              "    .dataframe thead th {\n",
              "        text-align: right;\n",
              "    }\n",
              "</style>\n",
              "<table border=\"1\" class=\"dataframe\">\n",
              "  <thead>\n",
              "    <tr style=\"text-align: right;\">\n",
              "      <th></th>\n",
              "      <th>Awardee</th>\n",
              "      <th>Approaches</th>\n",
              "      <th>Location</th>\n",
              "      <th>Award_Amount</th>\n",
              "      <th>State</th>\n",
              "      <th>Latitude</th>\n",
              "      <th>Longitude</th>\n",
              "    </tr>\n",
              "  </thead>\n",
              "  <tbody>\n",
              "    <tr>\n",
              "      <th>0</th>\n",
              "      <td>Meridian Health Plan</td>\n",
              "      <td>Maternity Care Home</td>\n",
              "      <td>Jackson</td>\n",
              "      <td>249939</td>\n",
              "      <td>MI</td>\n",
              "      <td>44.661320000317914</td>\n",
              "      <td>-84.71438999959867</td>\n",
              "    </tr>\n",
              "    <tr>\n",
              "      <th>1</th>\n",
              "      <td>American Association of Birth Centers, Inc.</td>\n",
              "      <td>Birth Centers</td>\n",
              "      <td>Anchorage, AK; Juneau, AK; Wasilla, AK; Rogers...</td>\n",
              "      <td>1585122</td>\n",
              "      <td>PA</td>\n",
              "      <td>40.79372999993973</td>\n",
              "      <td>-77.86069999960512</td>\n",
              "    </tr>\n",
              "    <tr>\n",
              "      <th>2</th>\n",
              "      <td>Texas Tech University Health Sciences Center</td>\n",
              "      <td>Maternity Care Home &amp; Group/Centering</td>\n",
              "      <td>Lubbock</td>\n",
              "      <td>260670</td>\n",
              "      <td>TX</td>\n",
              "      <td>31.82724000022597</td>\n",
              "      <td>-99.42676999973554</td>\n",
              "    </tr>\n",
              "    <tr>\n",
              "      <th>3</th>\n",
              "      <td>HealthInsight of Nevada</td>\n",
              "      <td>Group/Centering</td>\n",
              "      <td>Las Vegas and Reno</td>\n",
              "      <td>544126</td>\n",
              "      <td>NV</td>\n",
              "      <td>39.49323999972637</td>\n",
              "      <td>-117.07183999971608</td>\n",
              "    </tr>\n",
              "    <tr>\n",
              "      <th>4</th>\n",
              "      <td>Amerigroup Corporation</td>\n",
              "      <td>Group/Centering</td>\n",
              "      <td>Baton Rouge, LA; New Orleans, LA; and Shrevepo...</td>\n",
              "      <td>608742</td>\n",
              "      <td>VA</td>\n",
              "      <td>37.54268000028196</td>\n",
              "      <td>-78.45789000012326</td>\n",
              "    </tr>\n",
              "  </tbody>\n",
              "</table>\n",
              "</div>\n",
              "      <button class=\"colab-df-convert\" onclick=\"convertToInteractive('df-7a514c2b-5dc9-45aa-a707-1e843ec39dd3')\"\n",
              "              title=\"Convert this dataframe to an interactive table.\"\n",
              "              style=\"display:none;\">\n",
              "        \n",
              "  <svg xmlns=\"http://www.w3.org/2000/svg\" height=\"24px\"viewBox=\"0 0 24 24\"\n",
              "       width=\"24px\">\n",
              "    <path d=\"M0 0h24v24H0V0z\" fill=\"none\"/>\n",
              "    <path d=\"M18.56 5.44l.94 2.06.94-2.06 2.06-.94-2.06-.94-.94-2.06-.94 2.06-2.06.94zm-11 1L8.5 8.5l.94-2.06 2.06-.94-2.06-.94L8.5 2.5l-.94 2.06-2.06.94zm10 10l.94 2.06.94-2.06 2.06-.94-2.06-.94-.94-2.06-.94 2.06-2.06.94z\"/><path d=\"M17.41 7.96l-1.37-1.37c-.4-.4-.92-.59-1.43-.59-.52 0-1.04.2-1.43.59L10.3 9.45l-7.72 7.72c-.78.78-.78 2.05 0 2.83L4 21.41c.39.39.9.59 1.41.59.51 0 1.02-.2 1.41-.59l7.78-7.78 2.81-2.81c.8-.78.8-2.07 0-2.86zM5.41 20L4 18.59l7.72-7.72 1.47 1.35L5.41 20z\"/>\n",
              "  </svg>\n",
              "      </button>\n",
              "      \n",
              "  <style>\n",
              "    .colab-df-container {\n",
              "      display:flex;\n",
              "      flex-wrap:wrap;\n",
              "      gap: 12px;\n",
              "    }\n",
              "\n",
              "    .colab-df-convert {\n",
              "      background-color: #E8F0FE;\n",
              "      border: none;\n",
              "      border-radius: 50%;\n",
              "      cursor: pointer;\n",
              "      display: none;\n",
              "      fill: #1967D2;\n",
              "      height: 32px;\n",
              "      padding: 0 0 0 0;\n",
              "      width: 32px;\n",
              "    }\n",
              "\n",
              "    .colab-df-convert:hover {\n",
              "      background-color: #E2EBFA;\n",
              "      box-shadow: 0px 1px 2px rgba(60, 64, 67, 0.3), 0px 1px 3px 1px rgba(60, 64, 67, 0.15);\n",
              "      fill: #174EA6;\n",
              "    }\n",
              "\n",
              "    [theme=dark] .colab-df-convert {\n",
              "      background-color: #3B4455;\n",
              "      fill: #D2E3FC;\n",
              "    }\n",
              "\n",
              "    [theme=dark] .colab-df-convert:hover {\n",
              "      background-color: #434B5C;\n",
              "      box-shadow: 0px 1px 3px 1px rgba(0, 0, 0, 0.15);\n",
              "      filter: drop-shadow(0px 1px 2px rgba(0, 0, 0, 0.3));\n",
              "      fill: #FFFFFF;\n",
              "    }\n",
              "  </style>\n",
              "\n",
              "      <script>\n",
              "        const buttonEl =\n",
              "          document.querySelector('#df-7a514c2b-5dc9-45aa-a707-1e843ec39dd3 button.colab-df-convert');\n",
              "        buttonEl.style.display =\n",
              "          google.colab.kernel.accessAllowed ? 'block' : 'none';\n",
              "\n",
              "        async function convertToInteractive(key) {\n",
              "          const element = document.querySelector('#df-7a514c2b-5dc9-45aa-a707-1e843ec39dd3');\n",
              "          const dataTable =\n",
              "            await google.colab.kernel.invokeFunction('convertToInteractive',\n",
              "                                                     [key], {});\n",
              "          if (!dataTable) return;\n",
              "\n",
              "          const docLinkHtml = 'Like what you see? Visit the ' +\n",
              "            '<a target=\"_blank\" href=https://colab.research.google.com/notebooks/data_table.ipynb>data table notebook</a>'\n",
              "            + ' to learn more about interactive tables.';\n",
              "          element.innerHTML = '';\n",
              "          dataTable['output_type'] = 'display_data';\n",
              "          await google.colab.output.renderOutput(dataTable, element);\n",
              "          const docLink = document.createElement('div');\n",
              "          docLink.innerHTML = docLinkHtml;\n",
              "          element.appendChild(docLink);\n",
              "        }\n",
              "      </script>\n",
              "    </div>\n",
              "  </div>\n",
              "  "
            ]
          },
          "metadata": {},
          "execution_count": 33
        }
      ]
    },
    {
      "cell_type": "code",
      "source": [
        "df.Approaches.value_counts()"
      ],
      "metadata": {
        "colab": {
          "base_uri": "https://localhost:8080/"
        },
        "id": "XaFIAfipKAGc",
        "outputId": "4d1785ae-3e79-4af6-d7f6-e8bd23c2f9c3"
      },
      "execution_count": 39,
      "outputs": [
        {
          "output_type": "execute_result",
          "data": {
            "text/plain": [
              "Group/Centering                                         12\n",
              "Maternity Care Home                                     11\n",
              "Birth Centers                                            1\n",
              "Maternity Care Home & Group/Centering                    1\n",
              "Group/Centering, Maternity Care Home, & Birth Center     1\n",
              "Group/Centering & Maternity Care Home                    1\n",
              "Name: Approaches, dtype: int64"
            ]
          },
          "metadata": {},
          "execution_count": 39
        }
      ]
    },
    {
      "cell_type": "code",
      "source": [
        "df.Award_Amount = df.Award_Amount.astype(int)"
      ],
      "metadata": {
        "id": "vYNAGDZsKIw-"
      },
      "execution_count": 45,
      "outputs": []
    },
    {
      "cell_type": "code",
      "source": [
        "df.Award_Amount.plot(kind='kde')\n",
        "# this was right the whole time, I just didn't realize the scale of the numbers was millions "
      ],
      "metadata": {
        "colab": {
          "base_uri": "https://localhost:8080/",
          "height": 306
        },
        "id": "ND1DfG4VKwjv",
        "outputId": "6dd10015-b3c5-4352-c364-ab4c48e54a1f"
      },
      "execution_count": 46,
      "outputs": [
        {
          "output_type": "execute_result",
          "data": {
            "text/plain": [
              "<matplotlib.axes._subplots.AxesSubplot at 0x7fda65c2be50>"
            ]
          },
          "metadata": {},
          "execution_count": 46
        },
        {
          "output_type": "display_data",
          "data": {
            "text/plain": [
              "<Figure size 432x288 with 1 Axes>"
            ],
            "image/png": "[encoded data removed]"
          },
          "metadata": {
            "needs_background": "light"
          }
        }
      ]
    },
    {
      "cell_type": "code",
      "source": [
        "df.Award_Amount.plot(kind='hist', bins=20)"
      ],
      "metadata": {
        "colab": {
          "base_uri": "https://localhost:8080/",
          "height": 295
        },
        "id": "iIMOyjWyLAr0",
        "outputId": "87ca32e2-d35b-4c6a-ed76-cc9a45e39f75"
      },
      "execution_count": 53,
      "outputs": [
        {
          "output_type": "execute_result",
          "data": {
            "text/plain": [
              "<matplotlib.axes._subplots.AxesSubplot at 0x7fda551634d0>"
            ]
          },
          "metadata": {},
          "execution_count": 53
        },
        {
          "output_type": "display_data",
          "data": {
            "text/plain": [
              "<Figure size 432x288 with 1 Axes>"
            ],
            "image/png": "[encoded data removed]"
          },
          "metadata": {
            "needs_background": "light"
          }
        }
      ]
    },
    {
      "cell_type": "code",
      "source": [
        "import matplotlib.pyplot as plt \n",
        "import seaborn as sns \n",
        "%matplotlib inline"
      ],
      "metadata": {
        "id": "XNjL-Y5zLH3z"
      },
      "execution_count": 48,
      "outputs": []
    },
    {
      "cell_type": "code",
      "source": [
        "sns.displot(data = df, x='Award_Amount')"
      ],
      "metadata": {
        "colab": {
          "base_uri": "https://localhost:8080/",
          "height": 386
        },
        "id": "6JBPYFi5LOZj",
        "outputId": "c81b217e-378c-4bdd-d959-98ee10038afd"
      },
      "execution_count": 49,
      "outputs": [
        {
          "output_type": "execute_result",
          "data": {
            "text/plain": [
              "<seaborn.axisgrid.FacetGrid at 0x7fda55163850>"
            ]
          },
          "metadata": {},
          "execution_count": 49
        },
        {
          "output_type": "display_data",
          "data": {
            "text/plain": [
              "<Figure size 360x360 with 1 Axes>"
            ],
            "image/png": "[encoded data removed]"
          },
          "metadata": {
            "needs_background": "light"
          }
        }
      ]
    },
    {
      "cell_type": "code",
      "source": [
        "df.Award_Amount.value_counts()"
      ],
      "metadata": {
        "colab": {
          "base_uri": "https://localhost:8080/"
        },
        "id": "Jb-X7zWzLWRU",
        "outputId": "8aa8783a-ce95-4311-a7e8-d1e8140eee25"
      },
      "execution_count": 50,
      "outputs": [
        {
          "output_type": "execute_result",
          "data": {
            "text/plain": [
              "249939     1\n",
              "219473     1\n",
              "590904     1\n",
              "215734     1\n",
              "618334     1\n",
              "281278     1\n",
              "322367     1\n",
              "190176     1\n",
              "243207     1\n",
              "262731     1\n",
              "557848     1\n",
              "488476     1\n",
              "239980     1\n",
              "259336     1\n",
              "1585122    1\n",
              "361463     1\n",
              "206332     1\n",
              "466046     1\n",
              "587038     1\n",
              "320269     1\n",
              "459511     1\n",
              "614909     1\n",
              "664390     1\n",
              "608742     1\n",
              "544126     1\n",
              "260670     1\n",
              "355822     1\n",
              "Name: Award_Amount, dtype: int64"
            ]
          },
          "metadata": {},
          "execution_count": 50
        }
      ]
    },
    {
      "cell_type": "code",
      "source": [
        "sns.histplot(data=df, x='Award_Amount', bins=10)"
      ],
      "metadata": {
        "colab": {
          "base_uri": "https://localhost:8080/",
          "height": 297
        },
        "id": "B_IvrV1qLcID",
        "outputId": "0d878622-aaaa-4bce-ddfd-dad0fd7bc54d"
      },
      "execution_count": 51,
      "outputs": [
        {
          "output_type": "execute_result",
          "data": {
            "text/plain": [
              "<matplotlib.axes._subplots.AxesSubplot at 0x7fda526c3650>"
            ]
          },
          "metadata": {},
          "execution_count": 51
        },
        {
          "output_type": "display_data",
          "data": {
            "text/plain": [
              "<Figure size 432x288 with 1 Axes>"
            ],
            "image/png": "[encoded data removed]"
          },
          "metadata": {
            "needs_background": "light"
          }
        }
      ]
    },
    {
      "cell_type": "code",
      "source": [
        ""
      ],
      "metadata": {
        "id": "-xxeb9YCL4m7"
      },
      "execution_count": null,
      "outputs": []
    }
  ]
}