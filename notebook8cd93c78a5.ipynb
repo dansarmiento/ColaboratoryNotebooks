{
 "cells": [
  {
   "cell_type": "code",
   "execution_count": 1,
   "id": "7c6113ce",
   "metadata": {
    "_cell_guid": "b1076dfc-b9ad-4769-8c92-a6c4dae69d19",
    "_uuid": "8f2839f25d086af736a60e9eeb907d3b93b6e0e5",
    "execution": {
     "iopub.execute_input": "2022-05-23T20:43:03.248505Z",
     "iopub.status.busy": "2022-05-23T20:43:03.247751Z",
     "iopub.status.idle": "2022-05-23T20:43:03.272244Z",
     "shell.execute_reply": "2022-05-23T20:43:03.271302Z"
    },
    "papermill": {
     "duration": 0.045993,
     "end_time": "2022-05-23T20:43:03.274958",
     "exception": false,
     "start_time": "2022-05-23T20:43:03.228965",
     "status": "completed"
    },
    "tags": []
   },
   "outputs": [
    {
     "name": "stdout",
     "output_type": "stream",
     "text": [
      "/kaggle/input/cancer-trials-in-the-united-statese/countyData.csv\n",
      "/kaggle/input/cancer-trials-in-the-united-statese/matrix_spc .png\n",
      "/kaggle/input/cancer-trials-in-the-united-statese/fullData.csv\n",
      "/kaggle/input/cancer-trials-in-the-united-statese/data_dict.csv\n",
      "/kaggle/input/cancer-trials-in-the-united-statese/inc_percaptrials.png\n",
      "/kaggle/input/cancer-trials-in-the-united-statese/cen_income.csv\n",
      "/kaggle/input/cancer-trials-in-the-united-statese/inc_trials.png\n",
      "/kaggle/input/cancer-trials-in-the-united-statese/inc_death.png\n",
      "/kaggle/input/cancer-trials-in-the-united-statese/doc.docx\n",
      "/kaggle/input/cancer-trials-in-the-united-statese/incd_r.csv\n",
      "/kaggle/input/cancer-trials-in-the-united-statese/pov_death.png\n",
      "/kaggle/input/cancer-trials-in-the-united-statese/inc_incidence.png\n",
      "/kaggle/input/cancer-trials-in-the-united-statese/extract_zips_10.py\n",
      "/kaggle/input/cancer-trials-in-the-united-statese/study_fields.csv\n",
      "/kaggle/input/cancer-trials-in-the-united-statese/fips_zip_x.csv\n",
      "/kaggle/input/cancer-trials-in-the-united-statese/death_r.csv\n",
      "/kaggle/input/cancer-trials-in-the-united-statese/zipCodeData.csv\n",
      "/kaggle/input/cancer-trials-in-the-united-statese/census_county_population.csv\n",
      "/kaggle/input/cancer-trials-in-the-united-statese/countByZip.csv\n"
     ]
    }
   ],
   "source": [
    "# This Python 3 environment comes with many helpful analytics libraries installed\n",
    "# It is defined by the kaggle/python Docker image: https://github.com/kaggle/docker-python\n",
    "# For example, here's several helpful packages to load\n",
    "\n",
    "import numpy as np # linear algebra\n",
    "import pandas as pd # data processing, CSV file I/O (e.g. pd.read_csv)\n",
    "\n",
    "# Input data files are available in the read-only \"../input/\" directory\n",
    "# For example, running this (by clicking run or pressing Shift+Enter) will list all files under the input directory\n",
    "\n",
    "import os\n",
    "for dirname, _, filenames in os.walk('/kaggle/input'):\n",
    "    for filename in filenames:\n",
    "        print(os.path.join(dirname, filename))\n",
    "\n",
    "# You can write up to 20GB to the current directory (/kaggle/working/) that gets preserved as output when you create a version using \"Save & Run All\" \n",
    "# You can also write temporary files to /kaggle/temp/, but they won't be saved outside of the current session"
   ]
  },
  {
   "cell_type": "code",
   "execution_count": 2,
   "id": "dcaec3a5",
   "metadata": {
    "execution": {
     "iopub.execute_input": "2022-05-23T20:43:03.309668Z",
     "iopub.status.busy": "2022-05-23T20:43:03.309077Z",
     "iopub.status.idle": "2022-05-23T20:43:03.495478Z",
     "shell.execute_reply": "2022-05-23T20:43:03.494559Z"
    },
    "papermill": {
     "duration": 0.20645,
     "end_time": "2022-05-23T20:43:03.498373",
     "exception": false,
     "start_time": "2022-05-23T20:43:03.291923",
     "status": "completed"
    },
    "tags": []
   },
   "outputs": [],
   "source": [
    "df = pd.read_csv('/kaggle/input/cancer-trials-in-the-united-statese/fullData.csv')\n",
    "df.head()\n",
    "# full data is the file I will clean and visualize, first need to drop the zip codes, index, countycode, county \n",
    "# then clean out duplicate rows\n",
    "df.drop(columns=['index','zipCode','countyCode','studyCount','County','Name'], inplace=True)\n"
   ]
  },
  {
   "cell_type": "code",
   "execution_count": 3,
   "id": "92f6ae5d",
   "metadata": {
    "execution": {
     "iopub.execute_input": "2022-05-23T20:43:03.532865Z",
     "iopub.status.busy": "2022-05-23T20:43:03.532073Z",
     "iopub.status.idle": "2022-05-23T20:43:03.568785Z",
     "shell.execute_reply": "2022-05-23T20:43:03.567939Z"
    },
    "papermill": {
     "duration": 0.05639,
     "end_time": "2022-05-23T20:43:03.571195",
     "exception": false,
     "start_time": "2022-05-23T20:43:03.514805",
     "status": "completed"
    },
    "tags": []
   },
   "outputs": [],
   "source": [
    "df = df.drop_duplicates()"
   ]
  },
  {
   "cell_type": "code",
   "execution_count": 4,
   "id": "cf11320b",
   "metadata": {
    "execution": {
     "iopub.execute_input": "2022-05-23T20:43:03.604630Z",
     "iopub.status.busy": "2022-05-23T20:43:03.604336Z",
     "iopub.status.idle": "2022-05-23T20:43:03.607495Z",
     "shell.execute_reply": "2022-05-23T20:43:03.606914Z"
    },
    "papermill": {
     "duration": 0.022072,
     "end_time": "2022-05-23T20:43:03.609442",
     "exception": false,
     "start_time": "2022-05-23T20:43:03.587370",
     "status": "completed"
    },
    "tags": []
   },
   "outputs": [],
   "source": [
    "# df.reset_index(inplace=True)\n",
    "# df.drop(columns=['level_0','index'],inplace=True)\n",
    "# recTrend is the cancer mortality recent trend\n",
    "# recentTrend is cancer incidence recent trend\n",
    "# looks like this dataset is ripe for seaborn visual analysis"
   ]
  },
  {
   "cell_type": "code",
   "execution_count": 5,
   "id": "64aae19a",
   "metadata": {
    "execution": {
     "iopub.execute_input": "2022-05-23T20:43:03.642712Z",
     "iopub.status.busy": "2022-05-23T20:43:03.642399Z",
     "iopub.status.idle": "2022-05-23T20:43:03.645862Z",
     "shell.execute_reply": "2022-05-23T20:43:03.645232Z"
    },
    "papermill": {
     "duration": 0.022357,
     "end_time": "2022-05-23T20:43:03.647818",
     "exception": false,
     "start_time": "2022-05-23T20:43:03.625461",
     "status": "completed"
    },
    "tags": []
   },
   "outputs": [],
   "source": [
    "#df_dict = pd.read_csv('/kaggle/input/cancer-trials-in-the-united-statese/data_dict.csv')\n",
    "#df_dict\n",
    "# Columns need more descriptive names"
   ]
  },
  {
   "cell_type": "code",
   "execution_count": 6,
   "id": "7571630f",
   "metadata": {
    "execution": {
     "iopub.execute_input": "2022-05-23T20:43:03.681214Z",
     "iopub.status.busy": "2022-05-23T20:43:03.680639Z",
     "iopub.status.idle": "2022-05-23T20:43:03.690657Z",
     "shell.execute_reply": "2022-05-23T20:43:03.689836Z"
    },
    "papermill": {
     "duration": 0.029326,
     "end_time": "2022-05-23T20:43:03.692920",
     "exception": false,
     "start_time": "2022-05-23T20:43:03.663594",
     "status": "completed"
    },
    "tags": []
   },
   "outputs": [
    {
     "data": {
      "text/plain": [
       "Index(['State', 'poverty_pop', 'povertyPercent', 'medIncome', 'popEst2015',\n",
       "       'incidenceRate', 'avgAnnCount', 'inc_recent_trend',\n",
       "       'inc_five_year_trend', 'countyName', 'death_per_k', 'avgDeathsPerYear',\n",
       "       'cx_mort_recent_trend'],\n",
       "      dtype='object')"
      ]
     },
     "execution_count": 6,
     "metadata": {},
     "output_type": "execute_result"
    }
   ],
   "source": [
    "df.rename(columns={'PovertyEst':'poverty_pop', 'recentTrend':'inc_recent_trend','fiveYearTrend':'inc_five_year_trend','deathRate':'death_per_k',\n",
    "                  'recTrend':'cx_mort_recent_trend'}, inplace=True)\n",
    "df.columns"
   ]
  },
  {
   "cell_type": "code",
   "execution_count": 7,
   "id": "c51bdf74",
   "metadata": {
    "execution": {
     "iopub.execute_input": "2022-05-23T20:43:03.726718Z",
     "iopub.status.busy": "2022-05-23T20:43:03.726388Z",
     "iopub.status.idle": "2022-05-23T20:43:04.950817Z",
     "shell.execute_reply": "2022-05-23T20:43:04.949824Z"
    },
    "papermill": {
     "duration": 1.24438,
     "end_time": "2022-05-23T20:43:04.953283",
     "exception": false,
     "start_time": "2022-05-23T20:43:03.708903",
     "status": "completed"
    },
    "tags": []
   },
   "outputs": [],
   "source": [
    "import matplotlib.pyplot as plt\n",
    "import seaborn as sns\n",
    "%matplotlib inline"
   ]
  },
  {
   "cell_type": "markdown",
   "id": "d97bc461",
   "metadata": {
    "papermill": {
     "duration": 0.016188,
     "end_time": "2022-05-23T20:43:04.986966",
     "exception": false,
     "start_time": "2022-05-23T20:43:04.970778",
     "status": "completed"
    },
    "tags": []
   },
   "source": [
    "seaborn charts I want to try:\n",
    "1) scatter\n",
    "2) displot\n",
    "3) boxplot\n",
    "4) catplot\n",
    "5) violinplot\n",
    "6) histplot\n",
    "7) stripplot\n",
    "8) jointgrid\n",
    "9) relplot\n",
    "10) pairplot"
   ]
  },
  {
   "cell_type": "code",
   "execution_count": 8,
   "id": "c3bde8e4",
   "metadata": {
    "execution": {
     "iopub.execute_input": "2022-05-23T20:43:05.021356Z",
     "iopub.status.busy": "2022-05-23T20:43:05.021062Z",
     "iopub.status.idle": "2022-05-23T20:43:05.070934Z",
     "shell.execute_reply": "2022-05-23T20:43:05.070059Z"
    },
    "papermill": {
     "duration": 0.069857,
     "end_time": "2022-05-23T20:43:05.073301",
     "exception": false,
     "start_time": "2022-05-23T20:43:05.003444",
     "status": "completed"
    },
    "tags": []
   },
   "outputs": [
    {
     "data": {
      "text/html": [
       "<div>\n",
       "<style scoped>\n",
       "    .dataframe tbody tr th:only-of-type {\n",
       "        vertical-align: middle;\n",
       "    }\n",
       "\n",
       "    .dataframe tbody tr th {\n",
       "        vertical-align: top;\n",
       "    }\n",
       "\n",
       "    .dataframe thead th {\n",
       "        text-align: right;\n",
       "    }\n",
       "</style>\n",
       "<table border=\"1\" class=\"dataframe\">\n",
       "  <thead>\n",
       "    <tr style=\"text-align: right;\">\n",
       "      <th></th>\n",
       "      <th>poverty_pop</th>\n",
       "      <th>povertyPercent</th>\n",
       "      <th>medIncome</th>\n",
       "      <th>popEst2015</th>\n",
       "      <th>incidenceRate</th>\n",
       "      <th>avgAnnCount</th>\n",
       "      <th>death_per_k</th>\n",
       "      <th>avgDeathsPerYear</th>\n",
       "    </tr>\n",
       "  </thead>\n",
       "  <tbody>\n",
       "    <tr>\n",
       "      <th>count</th>\n",
       "      <td>3072.00</td>\n",
       "      <td>3072.00</td>\n",
       "      <td>3072.00</td>\n",
       "      <td>3072.00</td>\n",
       "      <td>3072.00</td>\n",
       "      <td>3072.00</td>\n",
       "      <td>3072.00</td>\n",
       "      <td>3072.00</td>\n",
       "    </tr>\n",
       "    <tr>\n",
       "      <th>mean</th>\n",
       "      <td>15679.78</td>\n",
       "      <td>16.87</td>\n",
       "      <td>47091.27</td>\n",
       "      <td>104546.96</td>\n",
       "      <td>448.29</td>\n",
       "      <td>612.50</td>\n",
       "      <td>178.62</td>\n",
       "      <td>187.77</td>\n",
       "    </tr>\n",
       "    <tr>\n",
       "      <th>std</th>\n",
       "      <td>56146.75</td>\n",
       "      <td>6.41</td>\n",
       "      <td>12079.96</td>\n",
       "      <td>332595.92</td>\n",
       "      <td>54.48</td>\n",
       "      <td>1422.85</td>\n",
       "      <td>27.73</td>\n",
       "      <td>506.49</td>\n",
       "    </tr>\n",
       "    <tr>\n",
       "      <th>min</th>\n",
       "      <td>91.00</td>\n",
       "      <td>3.20</td>\n",
       "      <td>22640.00</td>\n",
       "      <td>827.00</td>\n",
       "      <td>201.30</td>\n",
       "      <td>6.00</td>\n",
       "      <td>59.70</td>\n",
       "      <td>3.00</td>\n",
       "    </tr>\n",
       "    <tr>\n",
       "      <th>25%</th>\n",
       "      <td>1889.50</td>\n",
       "      <td>12.18</td>\n",
       "      <td>38876.25</td>\n",
       "      <td>11739.00</td>\n",
       "      <td>420.48</td>\n",
       "      <td>76.00</td>\n",
       "      <td>161.20</td>\n",
       "      <td>28.00</td>\n",
       "    </tr>\n",
       "    <tr>\n",
       "      <th>50%</th>\n",
       "      <td>4435.50</td>\n",
       "      <td>15.90</td>\n",
       "      <td>45201.00</td>\n",
       "      <td>26932.00</td>\n",
       "      <td>453.55</td>\n",
       "      <td>173.00</td>\n",
       "      <td>178.15</td>\n",
       "      <td>62.00</td>\n",
       "    </tr>\n",
       "    <tr>\n",
       "      <th>75%</th>\n",
       "      <td>10865.50</td>\n",
       "      <td>20.40</td>\n",
       "      <td>52509.25</td>\n",
       "      <td>69715.00</td>\n",
       "      <td>480.90</td>\n",
       "      <td>522.25</td>\n",
       "      <td>195.20</td>\n",
       "      <td>150.00</td>\n",
       "    </tr>\n",
       "    <tr>\n",
       "      <th>max</th>\n",
       "      <td>1863025.00</td>\n",
       "      <td>47.40</td>\n",
       "      <td>125635.00</td>\n",
       "      <td>10170292.00</td>\n",
       "      <td>1206.90</td>\n",
       "      <td>38150.00</td>\n",
       "      <td>362.80</td>\n",
       "      <td>14010.00</td>\n",
       "    </tr>\n",
       "  </tbody>\n",
       "</table>\n",
       "</div>"
      ],
      "text/plain": [
       "       poverty_pop  povertyPercent  medIncome   popEst2015  incidenceRate  \\\n",
       "count      3072.00         3072.00    3072.00      3072.00        3072.00   \n",
       "mean      15679.78           16.87   47091.27    104546.96         448.29   \n",
       "std       56146.75            6.41   12079.96    332595.92          54.48   \n",
       "min          91.00            3.20   22640.00       827.00         201.30   \n",
       "25%        1889.50           12.18   38876.25     11739.00         420.48   \n",
       "50%        4435.50           15.90   45201.00     26932.00         453.55   \n",
       "75%       10865.50           20.40   52509.25     69715.00         480.90   \n",
       "max     1863025.00           47.40  125635.00  10170292.00        1206.90   \n",
       "\n",
       "       avgAnnCount  death_per_k  avgDeathsPerYear  \n",
       "count      3072.00      3072.00           3072.00  \n",
       "mean        612.50       178.62            187.77  \n",
       "std        1422.85        27.73            506.49  \n",
       "min           6.00        59.70              3.00  \n",
       "25%          76.00       161.20             28.00  \n",
       "50%         173.00       178.15             62.00  \n",
       "75%         522.25       195.20            150.00  \n",
       "max       38150.00       362.80          14010.00  "
      ]
     },
     "execution_count": 8,
     "metadata": {},
     "output_type": "execute_result"
    }
   ],
   "source": [
    "df.describe().round(2)\n",
    "# the describe gives a lot of ideas of data distribution to visualize\n",
    "# first one is the poverty population IQR per state"
   ]
  },
  {
   "cell_type": "markdown",
   "id": "f14812dc",
   "metadata": {
    "papermill": {
     "duration": 0.016928,
     "end_time": "2022-05-23T20:43:05.108460",
     "exception": false,
     "start_time": "2022-05-23T20:43:05.091532",
     "status": "completed"
    },
    "tags": []
   },
   "source": [
    "*, x=None, y=None, hue=None, style=None, size=None, data=None, palette=None, hue_order=None, hue_norm=None, sizes=None, size_order=None, size_norm=None, markers=True, style_order=None, x_bins=None, y_bins=None, units=None, estimator=None, ci=95, n_boot=1000, alpha=None, x_jitter=None, y_jitter=None, legend='auto', ax=None, "
   ]
  },
  {
   "cell_type": "code",
   "execution_count": null,
   "id": "aabcc2cd",
   "metadata": {
    "execution": {
     "iopub.execute_input": "2022-05-23T19:50:46.390050Z",
     "iopub.status.busy": "2022-05-23T19:50:46.389111Z",
     "iopub.status.idle": "2022-05-23T19:50:46.408906Z",
     "shell.execute_reply": "2022-05-23T19:50:46.408255Z",
     "shell.execute_reply.started": "2022-05-23T19:50:46.389978Z"
    },
    "papermill": {
     "duration": 0.016549,
     "end_time": "2022-05-23T20:43:05.141874",
     "exception": false,
     "start_time": "2022-05-23T20:43:05.125325",
     "status": "completed"
    },
    "tags": []
   },
   "outputs": [],
   "source": []
  },
  {
   "cell_type": "markdown",
   "id": "4acd65f9",
   "metadata": {
    "papermill": {
     "duration": 0.016365,
     "end_time": "2022-05-23T20:43:05.175271",
     "exception": false,
     "start_time": "2022-05-23T20:43:05.158906",
     "status": "completed"
    },
    "tags": []
   },
   "source": [
    "BOXPLOT\n",
    "x=None, y=None, hue=None, data=None, order=None, hue_order=None, orient=None, color=None, palette=None, saturation=0.75, width=0.8, dodge=True, fliersize=5, linewidth=None, whis=1.5, ax=None"
   ]
  },
  {
   "cell_type": "markdown",
   "id": "ae889b32",
   "metadata": {
    "papermill": {
     "duration": 0.016496,
     "end_time": "2022-05-23T20:43:05.208425",
     "exception": false,
     "start_time": "2022-05-23T20:43:05.191929",
     "status": "completed"
    },
    "tags": []
   },
   "source": []
  },
  {
   "cell_type": "code",
   "execution_count": 9,
   "id": "b64e8f57",
   "metadata": {
    "execution": {
     "iopub.execute_input": "2022-05-23T20:43:05.243948Z",
     "iopub.status.busy": "2022-05-23T20:43:05.243531Z",
     "iopub.status.idle": "2022-05-23T20:43:06.395913Z",
     "shell.execute_reply": "2022-05-23T20:43:06.394903Z"
    },
    "papermill": {
     "duration": 1.173008,
     "end_time": "2022-05-23T20:43:06.398400",
     "exception": false,
     "start_time": "2022-05-23T20:43:05.225392",
     "status": "completed"
    },
    "tags": []
   },
   "outputs": [
    {
     "data": {
      "text/plain": [
       "<AxesSubplot:xlabel='State', ylabel='povertyPercent'>"
      ]
     },
     "execution_count": 9,
     "metadata": {},
     "output_type": "execute_result"
    },
    {
     "data": {
      "image/png": "[encoded data removed]",
      "text/plain": [
       "<Figure size 864x432 with 1 Axes>"
      ]
     },
     "metadata": {
      "needs_background": "light"
     },
     "output_type": "display_data"
    }
   ],
   "source": [
    "# boxplot for poverty IQR by state\n",
    "plt.figure(figsize=(12,6))\n",
    "plt.xticks(rotation=90)\n",
    "sns.boxplot(x='State', y='povertyPercent', data=df)"
   ]
  },
  {
   "cell_type": "markdown",
   "id": "e8bd6cf3",
   "metadata": {
    "papermill": {
     "duration": 0.018439,
     "end_time": "2022-05-23T20:43:06.436210",
     "exception": false,
     "start_time": "2022-05-23T20:43:06.417771",
     "status": "completed"
    },
    "tags": []
   },
   "source": [
    "If I created quartiles for which states had the highest avg poverty, I bet you wouldn't be surprised"
   ]
  },
  {
   "cell_type": "markdown",
   "id": "dd394f41",
   "metadata": {
    "papermill": {
     "duration": 0.019488,
     "end_time": "2022-05-23T20:43:06.477238",
     "exception": false,
     "start_time": "2022-05-23T20:43:06.457750",
     "status": "completed"
    },
    "tags": []
   },
   "source": []
  },
  {
   "cell_type": "code",
   "execution_count": null,
   "id": "57a362ca",
   "metadata": {
    "papermill": {
     "duration": 0.018408,
     "end_time": "2022-05-23T20:43:06.514723",
     "exception": false,
     "start_time": "2022-05-23T20:43:06.496315",
     "status": "completed"
    },
    "tags": []
   },
   "outputs": [],
   "source": []
  }
 ],
 "metadata": {
  "kernelspec": {
   "display_name": "Python 3",
   "language": "python",
   "name": "python3"
  },
  "language_info": {
   "codemirror_mode": {
    "name": "ipython",
    "version": 3
   },
   "file_extension": ".py",
   "mimetype": "text/x-python",
   "name": "python",
   "nbconvert_exporter": "python",
   "pygments_lexer": "ipython3",
   "version": "3.7.12"
  },
  "papermill": {
   "default_parameters": {},
   "duration": 14.915524,
   "end_time": "2022-05-23T20:43:07.355418",
   "environment_variables": {},
   "exception": null,
   "input_path": "__notebook__.ipynb",
   "output_path": "__notebook__.ipynb",
   "parameters": {},
   "start_time": "2022-05-23T20:42:52.439894",
   "version": "2.3.4"
  }
 },
 "nbformat": 4,
 "nbformat_minor": 5
}
