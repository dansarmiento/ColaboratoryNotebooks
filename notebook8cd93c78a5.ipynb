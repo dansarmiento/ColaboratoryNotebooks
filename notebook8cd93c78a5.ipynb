{
 "cells": [
  {
   "cell_type": "code",
   "execution_count": 1,
   "id": "a74facdc",
   "metadata": {
    "_cell_guid": "b1076dfc-b9ad-4769-8c92-a6c4dae69d19",
    "_uuid": "8f2839f25d086af736a60e9eeb907d3b93b6e0e5",
    "execution": {
     "iopub.execute_input": "2022-05-23T19:03:11.151817Z",
     "iopub.status.busy": "2022-05-23T19:03:11.151166Z",
     "iopub.status.idle": "2022-05-23T19:03:11.177814Z",
     "shell.execute_reply": "2022-05-23T19:03:11.176151Z"
    },
    "papermill": {
     "duration": 0.043101,
     "end_time": "2022-05-23T19:03:11.180973",
     "exception": false,
     "start_time": "2022-05-23T19:03:11.137872",
     "status": "completed"
    },
    "tags": []
   },
   "outputs": [
    {
     "name": "stdout",
     "output_type": "stream",
     "text": [
      "/kaggle/input/cancer-trials-in-the-united-statese/countyData.csv\n",
      "/kaggle/input/cancer-trials-in-the-united-statese/matrix_spc .png\n",
      "/kaggle/input/cancer-trials-in-the-united-statese/fullData.csv\n",
      "/kaggle/input/cancer-trials-in-the-united-statese/data_dict.csv\n",
      "/kaggle/input/cancer-trials-in-the-united-statese/inc_percaptrials.png\n",
      "/kaggle/input/cancer-trials-in-the-united-statese/cen_income.csv\n",
      "/kaggle/input/cancer-trials-in-the-united-statese/inc_trials.png\n",
      "/kaggle/input/cancer-trials-in-the-united-statese/inc_death.png\n",
      "/kaggle/input/cancer-trials-in-the-united-statese/doc.docx\n",
      "/kaggle/input/cancer-trials-in-the-united-statese/incd_r.csv\n",
      "/kaggle/input/cancer-trials-in-the-united-statese/pov_death.png\n",
      "/kaggle/input/cancer-trials-in-the-united-statese/inc_incidence.png\n",
      "/kaggle/input/cancer-trials-in-the-united-statese/extract_zips_10.py\n",
      "/kaggle/input/cancer-trials-in-the-united-statese/study_fields.csv\n",
      "/kaggle/input/cancer-trials-in-the-united-statese/fips_zip_x.csv\n",
      "/kaggle/input/cancer-trials-in-the-united-statese/death_r.csv\n",
      "/kaggle/input/cancer-trials-in-the-united-statese/zipCodeData.csv\n",
      "/kaggle/input/cancer-trials-in-the-united-statese/census_county_population.csv\n",
      "/kaggle/input/cancer-trials-in-the-united-statese/countByZip.csv\n"
     ]
    }
   ],
   "source": [
    "# This Python 3 environment comes with many helpful analytics libraries installed\n",
    "# It is defined by the kaggle/python Docker image: https://github.com/kaggle/docker-python\n",
    "# For example, here's several helpful packages to load\n",
    "\n",
    "import numpy as np # linear algebra\n",
    "import pandas as pd # data processing, CSV file I/O (e.g. pd.read_csv)\n",
    "\n",
    "# Input data files are available in the read-only \"../input/\" directory\n",
    "# For example, running this (by clicking run or pressing Shift+Enter) will list all files under the input directory\n",
    "\n",
    "import os\n",
    "for dirname, _, filenames in os.walk('/kaggle/input'):\n",
    "    for filename in filenames:\n",
    "        print(os.path.join(dirname, filename))\n",
    "\n",
    "# You can write up to 20GB to the current directory (/kaggle/working/) that gets preserved as output when you create a version using \"Save & Run All\" \n",
    "# You can also write temporary files to /kaggle/temp/, but they won't be saved outside of the current session"
   ]
  },
  {
   "cell_type": "code",
   "execution_count": 2,
   "id": "9d548339",
   "metadata": {
    "execution": {
     "iopub.execute_input": "2022-05-23T19:03:11.205490Z",
     "iopub.status.busy": "2022-05-23T19:03:11.205169Z",
     "iopub.status.idle": "2022-05-23T19:03:11.427709Z",
     "shell.execute_reply": "2022-05-23T19:03:11.426535Z"
    },
    "papermill": {
     "duration": 0.237406,
     "end_time": "2022-05-23T19:03:11.430378",
     "exception": false,
     "start_time": "2022-05-23T19:03:11.192972",
     "status": "completed"
    },
    "tags": []
   },
   "outputs": [],
   "source": [
    "df = pd.read_csv('/kaggle/input/cancer-trials-in-the-united-statese/fullData.csv')\n",
    "df.head()\n",
    "# full data is the file I will clean and visualize, first need to drop the zip codes, index, countycode, county \n",
    "# then clean out duplicate rows\n",
    "df.drop(columns=['index','zipCode','countyCode','studyCount','County','Name'], inplace=True)\n"
   ]
  },
  {
   "cell_type": "code",
   "execution_count": 3,
   "id": "2a1d4b3e",
   "metadata": {
    "execution": {
     "iopub.execute_input": "2022-05-23T19:03:11.453566Z",
     "iopub.status.busy": "2022-05-23T19:03:11.452729Z",
     "iopub.status.idle": "2022-05-23T19:03:11.492611Z",
     "shell.execute_reply": "2022-05-23T19:03:11.491610Z"
    },
    "papermill": {
     "duration": 0.0541,
     "end_time": "2022-05-23T19:03:11.494971",
     "exception": false,
     "start_time": "2022-05-23T19:03:11.440871",
     "status": "completed"
    },
    "tags": []
   },
   "outputs": [],
   "source": [
    "df = df.drop_duplicates()"
   ]
  },
  {
   "cell_type": "code",
   "execution_count": 4,
   "id": "1691e68e",
   "metadata": {
    "execution": {
     "iopub.execute_input": "2022-05-23T19:03:11.518144Z",
     "iopub.status.busy": "2022-05-23T19:03:11.517195Z",
     "iopub.status.idle": "2022-05-23T19:03:11.522222Z",
     "shell.execute_reply": "2022-05-23T19:03:11.521213Z"
    },
    "papermill": {
     "duration": 0.019071,
     "end_time": "2022-05-23T19:03:11.524335",
     "exception": false,
     "start_time": "2022-05-23T19:03:11.505264",
     "status": "completed"
    },
    "tags": []
   },
   "outputs": [],
   "source": [
    "# df.reset_index(inplace=True)\n",
    "# df.drop(columns=['level_0','index'],inplace=True)\n",
    "# recTrend is the cancer mortality recent trend\n",
    "# recentTrend is cancer incidence recent trend\n",
    "# looks like this dataset is ripe for seaborn visual analysis"
   ]
  },
  {
   "cell_type": "code",
   "execution_count": 5,
   "id": "cd60eeff",
   "metadata": {
    "execution": {
     "iopub.execute_input": "2022-05-23T19:03:11.546528Z",
     "iopub.status.busy": "2022-05-23T19:03:11.546251Z",
     "iopub.status.idle": "2022-05-23T19:03:11.550253Z",
     "shell.execute_reply": "2022-05-23T19:03:11.549186Z"
    },
    "papermill": {
     "duration": 0.017967,
     "end_time": "2022-05-23T19:03:11.552451",
     "exception": false,
     "start_time": "2022-05-23T19:03:11.534484",
     "status": "completed"
    },
    "tags": []
   },
   "outputs": [],
   "source": [
    "#df_dict = pd.read_csv('/kaggle/input/cancer-trials-in-the-united-statese/data_dict.csv')\n",
    "#df_dict\n",
    "# Columns need more descriptive names"
   ]
  },
  {
   "cell_type": "code",
   "execution_count": 6,
   "id": "d210951d",
   "metadata": {
    "execution": {
     "iopub.execute_input": "2022-05-23T19:03:11.574664Z",
     "iopub.status.busy": "2022-05-23T19:03:11.574398Z",
     "iopub.status.idle": "2022-05-23T19:03:11.584475Z",
     "shell.execute_reply": "2022-05-23T19:03:11.583579Z"
    },
    "papermill": {
     "duration": 0.023939,
     "end_time": "2022-05-23T19:03:11.586540",
     "exception": false,
     "start_time": "2022-05-23T19:03:11.562601",
     "status": "completed"
    },
    "tags": []
   },
   "outputs": [
    {
     "data": {
      "text/plain": [
       "Index(['State', 'poverty_pop', 'povertyPercent', 'medIncome', 'popEst2015',\n",
       "       'incidenceRate', 'avgAnnCount', 'inc_recent_trend',\n",
       "       'inc_five_year_trend', 'countyName', 'death_per_k', 'avgDeathsPerYear',\n",
       "       'cx_mort_recent_trend'],\n",
       "      dtype='object')"
      ]
     },
     "execution_count": 6,
     "metadata": {},
     "output_type": "execute_result"
    }
   ],
   "source": [
    "df.rename(columns={'PovertyEst':'poverty_pop', 'recentTrend':'inc_recent_trend','fiveYearTrend':'inc_five_year_trend','deathRate':'death_per_k',\n",
    "                  'recTrend':'cx_mort_recent_trend'}, inplace=True)\n",
    "df.columns"
   ]
  },
  {
   "cell_type": "code",
   "execution_count": 7,
   "id": "dab98873",
   "metadata": {
    "execution": {
     "iopub.execute_input": "2022-05-23T19:03:11.610064Z",
     "iopub.status.busy": "2022-05-23T19:03:11.609678Z",
     "iopub.status.idle": "2022-05-23T19:03:12.765634Z",
     "shell.execute_reply": "2022-05-23T19:03:12.764672Z"
    },
    "papermill": {
     "duration": 1.170851,
     "end_time": "2022-05-23T19:03:12.768187",
     "exception": false,
     "start_time": "2022-05-23T19:03:11.597336",
     "status": "completed"
    },
    "tags": []
   },
   "outputs": [],
   "source": [
    "import matplotlib.pyplot as plt\n",
    "import seaborn as sns\n",
    "%matplotlib inline"
   ]
  },
  {
   "cell_type": "markdown",
   "id": "b59176a6",
   "metadata": {
    "papermill": {
     "duration": 0.010299,
     "end_time": "2022-05-23T19:03:12.789349",
     "exception": false,
     "start_time": "2022-05-23T19:03:12.779050",
     "status": "completed"
    },
    "tags": []
   },
   "source": [
    "seaborn charts I want to try:\n",
    "1) scatter\n",
    "2) displot\n",
    "3) boxplot\n",
    "4) catplot\n",
    "5) violinplot\n",
    "6) histplot\n",
    "7) stripplot\n",
    "8) jointgrid\n",
    "9) relplot\n",
    "10) pairplot"
   ]
  },
  {
   "cell_type": "code",
   "execution_count": null,
   "id": "c4e1b1ed",
   "metadata": {
    "papermill": {
     "duration": 0.010372,
     "end_time": "2022-05-23T19:03:12.810294",
     "exception": false,
     "start_time": "2022-05-23T19:03:12.799922",
     "status": "completed"
    },
    "tags": []
   },
   "outputs": [],
   "source": []
  }
 ],
 "metadata": {
  "kernelspec": {
   "display_name": "Python 3",
   "language": "python",
   "name": "python3"
  },
  "language_info": {
   "codemirror_mode": {
    "name": "ipython",
    "version": 3
   },
   "file_extension": ".py",
   "mimetype": "text/x-python",
   "name": "python",
   "nbconvert_exporter": "python",
   "pygments_lexer": "ipython3",
   "version": "3.7.12"
  },
  "papermill": {
   "default_parameters": {},
   "duration": 13.535662,
   "end_time": "2022-05-23T19:03:13.744594",
   "environment_variables": {},
   "exception": null,
   "input_path": "__notebook__.ipynb",
   "output_path": "__notebook__.ipynb",
   "parameters": {},
   "start_time": "2022-05-23T19:03:00.208932",
   "version": "2.3.4"
  }
 },
 "nbformat": 4,
 "nbformat_minor": 5
}
