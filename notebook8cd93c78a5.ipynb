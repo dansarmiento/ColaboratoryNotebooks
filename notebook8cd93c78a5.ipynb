{
 "cells": [
  {
   "cell_type": "code",
   "execution_count": 1,
   "id": "ace686c9",
   "metadata": {
    "_cell_guid": "b1076dfc-b9ad-4769-8c92-a6c4dae69d19",
    "_uuid": "8f2839f25d086af736a60e9eeb907d3b93b6e0e5",
    "execution": {
     "iopub.execute_input": "2022-05-24T01:03:37.418837Z",
     "iopub.status.busy": "2022-05-24T01:03:37.418026Z",
     "iopub.status.idle": "2022-05-24T01:03:37.444781Z",
     "shell.execute_reply": "2022-05-24T01:03:37.443857Z"
    },
    "papermill": {
     "duration": 0.058662,
     "end_time": "2022-05-24T01:03:37.447818",
     "exception": false,
     "start_time": "2022-05-24T01:03:37.389156",
     "status": "completed"
    },
    "tags": []
   },
   "outputs": [
    {
     "name": "stdout",
     "output_type": "stream",
     "text": [
      "/kaggle/input/cancer-trials-in-the-united-statese/countyData.csv\n",
      "/kaggle/input/cancer-trials-in-the-united-statese/matrix_spc .png\n",
      "/kaggle/input/cancer-trials-in-the-united-statese/fullData.csv\n",
      "/kaggle/input/cancer-trials-in-the-united-statese/data_dict.csv\n",
      "/kaggle/input/cancer-trials-in-the-united-statese/inc_percaptrials.png\n",
      "/kaggle/input/cancer-trials-in-the-united-statese/cen_income.csv\n",
      "/kaggle/input/cancer-trials-in-the-united-statese/inc_trials.png\n",
      "/kaggle/input/cancer-trials-in-the-united-statese/inc_death.png\n",
      "/kaggle/input/cancer-trials-in-the-united-statese/doc.docx\n",
      "/kaggle/input/cancer-trials-in-the-united-statese/incd_r.csv\n",
      "/kaggle/input/cancer-trials-in-the-united-statese/pov_death.png\n",
      "/kaggle/input/cancer-trials-in-the-united-statese/inc_incidence.png\n",
      "/kaggle/input/cancer-trials-in-the-united-statese/extract_zips_10.py\n",
      "/kaggle/input/cancer-trials-in-the-united-statese/study_fields.csv\n",
      "/kaggle/input/cancer-trials-in-the-united-statese/fips_zip_x.csv\n",
      "/kaggle/input/cancer-trials-in-the-united-statese/death_r.csv\n",
      "/kaggle/input/cancer-trials-in-the-united-statese/zipCodeData.csv\n",
      "/kaggle/input/cancer-trials-in-the-united-statese/census_county_population.csv\n",
      "/kaggle/input/cancer-trials-in-the-united-statese/countByZip.csv\n"
     ]
    }
   ],
   "source": [
    "# This Python 3 environment comes with many helpful analytics libraries installed\n",
    "# It is defined by the kaggle/python Docker image: https://github.com/kaggle/docker-python\n",
    "# For example, here's several helpful packages to load\n",
    "\n",
    "import numpy as np # linear algebra\n",
    "import pandas as pd # data processing, CSV file I/O (e.g. pd.read_csv)\n",
    "\n",
    "# Input data files are available in the read-only \"../input/\" directory\n",
    "# For example, running this (by clicking run or pressing Shift+Enter) will list all files under the input directory\n",
    "\n",
    "import os\n",
    "for dirname, _, filenames in os.walk('/kaggle/input'):\n",
    "    for filename in filenames:\n",
    "        print(os.path.join(dirname, filename))\n",
    "\n",
    "# You can write up to 20GB to the current directory (/kaggle/working/) that gets preserved as output when you create a version using \"Save & Run All\" \n",
    "# You can also write temporary files to /kaggle/temp/, but they won't be saved outside of the current session"
   ]
  },
  {
   "cell_type": "code",
   "execution_count": 2,
   "id": "7bddf102",
   "metadata": {
    "execution": {
     "iopub.execute_input": "2022-05-24T01:03:37.501132Z",
     "iopub.status.busy": "2022-05-24T01:03:37.500455Z",
     "iopub.status.idle": "2022-05-24T01:03:37.691322Z",
     "shell.execute_reply": "2022-05-24T01:03:37.690554Z"
    },
    "papermill": {
     "duration": 0.22046,
     "end_time": "2022-05-24T01:03:37.693829",
     "exception": false,
     "start_time": "2022-05-24T01:03:37.473369",
     "status": "completed"
    },
    "tags": []
   },
   "outputs": [],
   "source": [
    "df = pd.read_csv('/kaggle/input/cancer-trials-in-the-united-statese/fullData.csv')\n",
    "df.head()\n",
    "# full data is the file I will clean and visualize, first need to drop the zip codes, index, countycode, county \n",
    "# then clean out duplicate rows\n",
    "df.drop(columns=['index','zipCode','countyCode','studyCount','County','Name'], inplace=True)\n"
   ]
  },
  {
   "cell_type": "code",
   "execution_count": 3,
   "id": "9bae7e35",
   "metadata": {
    "execution": {
     "iopub.execute_input": "2022-05-24T01:03:37.745980Z",
     "iopub.status.busy": "2022-05-24T01:03:37.745320Z",
     "iopub.status.idle": "2022-05-24T01:03:37.781150Z",
     "shell.execute_reply": "2022-05-24T01:03:37.780115Z"
    },
    "papermill": {
     "duration": 0.064526,
     "end_time": "2022-05-24T01:03:37.783753",
     "exception": false,
     "start_time": "2022-05-24T01:03:37.719227",
     "status": "completed"
    },
    "tags": []
   },
   "outputs": [],
   "source": [
    "df = df.drop_duplicates()"
   ]
  },
  {
   "cell_type": "code",
   "execution_count": 4,
   "id": "12b24bf8",
   "metadata": {
    "execution": {
     "iopub.execute_input": "2022-05-24T01:03:37.834342Z",
     "iopub.status.busy": "2022-05-24T01:03:37.833130Z",
     "iopub.status.idle": "2022-05-24T01:03:37.837818Z",
     "shell.execute_reply": "2022-05-24T01:03:37.837107Z"
    },
    "papermill": {
     "duration": 0.031847,
     "end_time": "2022-05-24T01:03:37.839729",
     "exception": false,
     "start_time": "2022-05-24T01:03:37.807882",
     "status": "completed"
    },
    "tags": []
   },
   "outputs": [],
   "source": [
    "# df.reset_index(inplace=True)\n",
    "# df.drop(columns=['level_0','index'],inplace=True)\n",
    "# recTrend is the cancer mortality recent trend\n",
    "# recentTrend is cancer incidence recent trend\n",
    "# looks like this dataset is ripe for seaborn visual analysis"
   ]
  },
  {
   "cell_type": "code",
   "execution_count": 5,
   "id": "b18fb91b",
   "metadata": {
    "execution": {
     "iopub.execute_input": "2022-05-24T01:03:37.889983Z",
     "iopub.status.busy": "2022-05-24T01:03:37.889245Z",
     "iopub.status.idle": "2022-05-24T01:03:37.893189Z",
     "shell.execute_reply": "2022-05-24T01:03:37.892529Z"
    },
    "papermill": {
     "duration": 0.031837,
     "end_time": "2022-05-24T01:03:37.895055",
     "exception": false,
     "start_time": "2022-05-24T01:03:37.863218",
     "status": "completed"
    },
    "tags": []
   },
   "outputs": [],
   "source": [
    "#df_dict = pd.read_csv('/kaggle/input/cancer-trials-in-the-united-statese/data_dict.csv')\n",
    "#df_dict\n",
    "# Columns need more descriptive names"
   ]
  },
  {
   "cell_type": "code",
   "execution_count": 6,
   "id": "5589d2a2",
   "metadata": {
    "execution": {
     "iopub.execute_input": "2022-05-24T01:03:37.944617Z",
     "iopub.status.busy": "2022-05-24T01:03:37.944009Z",
     "iopub.status.idle": "2022-05-24T01:03:37.953481Z",
     "shell.execute_reply": "2022-05-24T01:03:37.952861Z"
    },
    "papermill": {
     "duration": 0.036581,
     "end_time": "2022-05-24T01:03:37.955425",
     "exception": false,
     "start_time": "2022-05-24T01:03:37.918844",
     "status": "completed"
    },
    "tags": []
   },
   "outputs": [
    {
     "data": {
      "text/plain": [
       "Index(['State', 'poverty_pop', 'povertyPercent', 'medIncome', 'popEst2015',\n",
       "       'incidenceRate', 'avgAnnCount', 'inc_recent_trend',\n",
       "       'inc_five_year_trend', 'countyName', 'death_per_k', 'avgDeathsPerYear',\n",
       "       'cx_mort_recent_trend'],\n",
       "      dtype='object')"
      ]
     },
     "execution_count": 6,
     "metadata": {},
     "output_type": "execute_result"
    }
   ],
   "source": [
    "df.rename(columns={'PovertyEst':'poverty_pop', 'recentTrend':'inc_recent_trend','fiveYearTrend':'inc_five_year_trend','deathRate':'death_per_k',\n",
    "                  'recTrend':'cx_mort_recent_trend'}, inplace=True)\n",
    "df.columns"
   ]
  },
  {
   "cell_type": "code",
   "execution_count": 7,
   "id": "bd2ac797",
   "metadata": {
    "execution": {
     "iopub.execute_input": "2022-05-24T01:03:38.005951Z",
     "iopub.status.busy": "2022-05-24T01:03:38.005450Z",
     "iopub.status.idle": "2022-05-24T01:03:39.138343Z",
     "shell.execute_reply": "2022-05-24T01:03:39.137466Z"
    },
    "papermill": {
     "duration": 1.161265,
     "end_time": "2022-05-24T01:03:39.140792",
     "exception": false,
     "start_time": "2022-05-24T01:03:37.979527",
     "status": "completed"
    },
    "tags": []
   },
   "outputs": [],
   "source": [
    "import matplotlib.pyplot as plt\n",
    "import seaborn as sns\n",
    "%matplotlib inline"
   ]
  },
  {
   "cell_type": "markdown",
   "id": "9449f828",
   "metadata": {
    "papermill": {
     "duration": 0.023714,
     "end_time": "2022-05-24T01:03:39.188938",
     "exception": false,
     "start_time": "2022-05-24T01:03:39.165224",
     "status": "completed"
    },
    "tags": []
   },
   "source": [
    "seaborn charts I want to try:\n",
    "1) scatter\n",
    "2) displot\n",
    "3) boxplot\n",
    "4) catplot\n",
    "5) violinplot\n",
    "6) histplot\n",
    "7) stripplot\n",
    "8) jointgrid\n",
    "9) relplot\n",
    "10) pairplot"
   ]
  },
  {
   "cell_type": "code",
   "execution_count": 8,
   "id": "5c0b4bb6",
   "metadata": {
    "execution": {
     "iopub.execute_input": "2022-05-24T01:03:39.242389Z",
     "iopub.status.busy": "2022-05-24T01:03:39.242073Z",
     "iopub.status.idle": "2022-05-24T01:03:39.291088Z",
     "shell.execute_reply": "2022-05-24T01:03:39.290156Z"
    },
    "papermill": {
     "duration": 0.07781,
     "end_time": "2022-05-24T01:03:39.293121",
     "exception": false,
     "start_time": "2022-05-24T01:03:39.215311",
     "status": "completed"
    },
    "tags": []
   },
   "outputs": [
    {
     "data": {
      "text/html": [
       "<div>\n",
       "<style scoped>\n",
       "    .dataframe tbody tr th:only-of-type {\n",
       "        vertical-align: middle;\n",
       "    }\n",
       "\n",
       "    .dataframe tbody tr th {\n",
       "        vertical-align: top;\n",
       "    }\n",
       "\n",
       "    .dataframe thead th {\n",
       "        text-align: right;\n",
       "    }\n",
       "</style>\n",
       "<table border=\"1\" class=\"dataframe\">\n",
       "  <thead>\n",
       "    <tr style=\"text-align: right;\">\n",
       "      <th></th>\n",
       "      <th>poverty_pop</th>\n",
       "      <th>povertyPercent</th>\n",
       "      <th>medIncome</th>\n",
       "      <th>popEst2015</th>\n",
       "      <th>incidenceRate</th>\n",
       "      <th>avgAnnCount</th>\n",
       "      <th>death_per_k</th>\n",
       "      <th>avgDeathsPerYear</th>\n",
       "    </tr>\n",
       "  </thead>\n",
       "  <tbody>\n",
       "    <tr>\n",
       "      <th>count</th>\n",
       "      <td>3072.00</td>\n",
       "      <td>3072.00</td>\n",
       "      <td>3072.00</td>\n",
       "      <td>3072.00</td>\n",
       "      <td>3072.00</td>\n",
       "      <td>3072.00</td>\n",
       "      <td>3072.00</td>\n",
       "      <td>3072.00</td>\n",
       "    </tr>\n",
       "    <tr>\n",
       "      <th>mean</th>\n",
       "      <td>15679.78</td>\n",
       "      <td>16.87</td>\n",
       "      <td>47091.27</td>\n",
       "      <td>104546.96</td>\n",
       "      <td>448.29</td>\n",
       "      <td>612.50</td>\n",
       "      <td>178.62</td>\n",
       "      <td>187.77</td>\n",
       "    </tr>\n",
       "    <tr>\n",
       "      <th>std</th>\n",
       "      <td>56146.75</td>\n",
       "      <td>6.41</td>\n",
       "      <td>12079.96</td>\n",
       "      <td>332595.92</td>\n",
       "      <td>54.48</td>\n",
       "      <td>1422.85</td>\n",
       "      <td>27.73</td>\n",
       "      <td>506.49</td>\n",
       "    </tr>\n",
       "    <tr>\n",
       "      <th>min</th>\n",
       "      <td>91.00</td>\n",
       "      <td>3.20</td>\n",
       "      <td>22640.00</td>\n",
       "      <td>827.00</td>\n",
       "      <td>201.30</td>\n",
       "      <td>6.00</td>\n",
       "      <td>59.70</td>\n",
       "      <td>3.00</td>\n",
       "    </tr>\n",
       "    <tr>\n",
       "      <th>25%</th>\n",
       "      <td>1889.50</td>\n",
       "      <td>12.18</td>\n",
       "      <td>38876.25</td>\n",
       "      <td>11739.00</td>\n",
       "      <td>420.48</td>\n",
       "      <td>76.00</td>\n",
       "      <td>161.20</td>\n",
       "      <td>28.00</td>\n",
       "    </tr>\n",
       "    <tr>\n",
       "      <th>50%</th>\n",
       "      <td>4435.50</td>\n",
       "      <td>15.90</td>\n",
       "      <td>45201.00</td>\n",
       "      <td>26932.00</td>\n",
       "      <td>453.55</td>\n",
       "      <td>173.00</td>\n",
       "      <td>178.15</td>\n",
       "      <td>62.00</td>\n",
       "    </tr>\n",
       "    <tr>\n",
       "      <th>75%</th>\n",
       "      <td>10865.50</td>\n",
       "      <td>20.40</td>\n",
       "      <td>52509.25</td>\n",
       "      <td>69715.00</td>\n",
       "      <td>480.90</td>\n",
       "      <td>522.25</td>\n",
       "      <td>195.20</td>\n",
       "      <td>150.00</td>\n",
       "    </tr>\n",
       "    <tr>\n",
       "      <th>max</th>\n",
       "      <td>1863025.00</td>\n",
       "      <td>47.40</td>\n",
       "      <td>125635.00</td>\n",
       "      <td>10170292.00</td>\n",
       "      <td>1206.90</td>\n",
       "      <td>38150.00</td>\n",
       "      <td>362.80</td>\n",
       "      <td>14010.00</td>\n",
       "    </tr>\n",
       "  </tbody>\n",
       "</table>\n",
       "</div>"
      ],
      "text/plain": [
       "       poverty_pop  povertyPercent  medIncome   popEst2015  incidenceRate  \\\n",
       "count      3072.00         3072.00    3072.00      3072.00        3072.00   \n",
       "mean      15679.78           16.87   47091.27    104546.96         448.29   \n",
       "std       56146.75            6.41   12079.96    332595.92          54.48   \n",
       "min          91.00            3.20   22640.00       827.00         201.30   \n",
       "25%        1889.50           12.18   38876.25     11739.00         420.48   \n",
       "50%        4435.50           15.90   45201.00     26932.00         453.55   \n",
       "75%       10865.50           20.40   52509.25     69715.00         480.90   \n",
       "max     1863025.00           47.40  125635.00  10170292.00        1206.90   \n",
       "\n",
       "       avgAnnCount  death_per_k  avgDeathsPerYear  \n",
       "count      3072.00      3072.00           3072.00  \n",
       "mean        612.50       178.62            187.77  \n",
       "std        1422.85        27.73            506.49  \n",
       "min           6.00        59.70              3.00  \n",
       "25%          76.00       161.20             28.00  \n",
       "50%         173.00       178.15             62.00  \n",
       "75%         522.25       195.20            150.00  \n",
       "max       38150.00       362.80          14010.00  "
      ]
     },
     "execution_count": 8,
     "metadata": {},
     "output_type": "execute_result"
    }
   ],
   "source": [
    "df.describe().round(2)\n",
    "# the describe gives a lot of ideas of data distribution to visualize\n",
    "# first one is the poverty population IQR per state"
   ]
  },
  {
   "cell_type": "markdown",
   "id": "e46175a7",
   "metadata": {
    "papermill": {
     "duration": 0.025428,
     "end_time": "2022-05-24T01:03:39.343247",
     "exception": false,
     "start_time": "2022-05-24T01:03:39.317819",
     "status": "completed"
    },
    "tags": []
   },
   "source": [
    "*, x=None, y=None, hue=None, style=None, size=None, data=None, palette=None, hue_order=None, hue_norm=None, sizes=None, size_order=None, size_norm=None, markers=True, style_order=None, x_bins=None, y_bins=None, units=None, estimator=None, ci=95, n_boot=1000, alpha=None, x_jitter=None, y_jitter=None, legend='auto', ax=None, "
   ]
  },
  {
   "cell_type": "code",
   "execution_count": null,
   "id": "8f2a8383",
   "metadata": {
    "papermill": {
     "duration": 0.024379,
     "end_time": "2022-05-24T01:03:39.393104",
     "exception": false,
     "start_time": "2022-05-24T01:03:39.368725",
     "status": "completed"
    },
    "tags": []
   },
   "outputs": [],
   "source": []
  },
  {
   "cell_type": "markdown",
   "id": "60b5dec5",
   "metadata": {
    "papermill": {
     "duration": 0.024443,
     "end_time": "2022-05-24T01:03:39.442551",
     "exception": false,
     "start_time": "2022-05-24T01:03:39.418108",
     "status": "completed"
    },
    "tags": []
   },
   "source": [
    "BOXPLOT\n",
    "x=None, y=None, hue=None, data=None, order=None, hue_order=None, orient=None, color=None, palette=None, saturation=0.75, width=0.8, dodge=True, fliersize=5, linewidth=None, whis=1.5, ax=None"
   ]
  },
  {
   "cell_type": "code",
   "execution_count": 9,
   "id": "844cf6f3",
   "metadata": {
    "execution": {
     "iopub.execute_input": "2022-05-24T01:03:39.493859Z",
     "iopub.status.busy": "2022-05-24T01:03:39.493550Z",
     "iopub.status.idle": "2022-05-24T01:03:40.639602Z",
     "shell.execute_reply": "2022-05-24T01:03:40.636912Z"
    },
    "papermill": {
     "duration": 1.174663,
     "end_time": "2022-05-24T01:03:40.642030",
     "exception": false,
     "start_time": "2022-05-24T01:03:39.467367",
     "status": "completed"
    },
    "tags": []
   },
   "outputs": [
    {
     "data": {
      "text/plain": [
       "<AxesSubplot:xlabel='State', ylabel='povertyPercent'>"
      ]
     },
     "execution_count": 9,
     "metadata": {},
     "output_type": "execute_result"
    },
    {
     "data": {
      "image/png": "[encoded data removed]",
      "text/plain": [
       "<Figure size 864x432 with 1 Axes>"
      ]
     },
     "metadata": {
      "needs_background": "light"
     },
     "output_type": "display_data"
    }
   ],
   "source": [
    "# boxplot for poverty IQR by state\n",
    "plt.figure(figsize=(12,6))\n",
    "plt.xticks(rotation=90)\n",
    "sns.boxplot(x='State', y='povertyPercent', data=df)\n",
    "# I want to order this by the mean poverty percent by state"
   ]
  },
  {
   "cell_type": "markdown",
   "id": "ca87c14f",
   "metadata": {
    "papermill": {
     "duration": 0.026224,
     "end_time": "2022-05-24T01:03:40.695102",
     "exception": false,
     "start_time": "2022-05-24T01:03:40.668878",
     "status": "completed"
    },
    "tags": []
   },
   "source": [
    "If I created quartiles for which states had the highest avg poverty, I bet you wouldn't be surprised"
   ]
  },
  {
   "cell_type": "markdown",
   "id": "d07b57c3",
   "metadata": {
    "papermill": {
     "duration": 0.026542,
     "end_time": "2022-05-24T01:03:40.748513",
     "exception": false,
     "start_time": "2022-05-24T01:03:40.721971",
     "status": "completed"
    },
    "tags": []
   },
   "source": []
  },
  {
   "cell_type": "code",
   "execution_count": 10,
   "id": "dbfe0b66",
   "metadata": {
    "execution": {
     "iopub.execute_input": "2022-05-24T01:03:40.804242Z",
     "iopub.status.busy": "2022-05-24T01:03:40.803738Z",
     "iopub.status.idle": "2022-05-24T01:03:40.812222Z",
     "shell.execute_reply": "2022-05-24T01:03:40.811435Z"
    },
    "papermill": {
     "duration": 0.039154,
     "end_time": "2022-05-24T01:03:40.814527",
     "exception": false,
     "start_time": "2022-05-24T01:03:40.775373",
     "status": "completed"
    },
    "tags": []
   },
   "outputs": [],
   "source": [
    "pov_order = df.groupby(by='State').povertyPercent.mean().sort_values().index"
   ]
  },
  {
   "cell_type": "code",
   "execution_count": 11,
   "id": "cbe14acb",
   "metadata": {
    "execution": {
     "iopub.execute_input": "2022-05-24T01:03:40.871521Z",
     "iopub.status.busy": "2022-05-24T01:03:40.870462Z",
     "iopub.status.idle": "2022-05-24T01:03:42.089749Z",
     "shell.execute_reply": "2022-05-24T01:03:42.088546Z"
    },
    "papermill": {
     "duration": 1.250255,
     "end_time": "2022-05-24T01:03:42.092046",
     "exception": false,
     "start_time": "2022-05-24T01:03:40.841791",
     "status": "completed"
    },
    "tags": []
   },
   "outputs": [
    {
     "data": {
      "text/plain": [
       "<AxesSubplot:xlabel='State', ylabel='povertyPercent'>"
      ]
     },
     "execution_count": 11,
     "metadata": {},
     "output_type": "execute_result"
    },
    {
     "data": {
      "image/png": "[encoded data removed]",
      "text/plain": [
       "<Figure size 864x432 with 1 Axes>"
      ]
     },
     "metadata": {
      "needs_background": "light"
     },
     "output_type": "display_data"
    }
   ],
   "source": [
    "# boxplot for poverty IQR by state\n",
    "plt.figure(figsize=(12,6))\n",
    "plt.xticks(rotation=90)\n",
    "sns.boxplot(x='State', y='povertyPercent', data=df, order=pov_order)\n",
    "# I want to add a label for the quartile poverty percent the county is in nationally"
   ]
  },
  {
   "cell_type": "code",
   "execution_count": 12,
   "id": "95f4ae3f",
   "metadata": {
    "execution": {
     "iopub.execute_input": "2022-05-24T01:03:42.151523Z",
     "iopub.status.busy": "2022-05-24T01:03:42.150622Z",
     "iopub.status.idle": "2022-05-24T01:03:42.158217Z",
     "shell.execute_reply": "2022-05-24T01:03:42.157360Z"
    },
    "papermill": {
     "duration": 0.040041,
     "end_time": "2022-05-24T01:03:42.160599",
     "exception": false,
     "start_time": "2022-05-24T01:03:42.120558",
     "status": "completed"
    },
    "tags": []
   },
   "outputs": [],
   "source": [
    "# how do I add the ntile for a value\n",
    "# df['Quantile_rank'] = pd.qcut(df['Score'], 4,labels = False)\n",
    "df['poverty_quartiles'] = pd.qcut(df['povertyPercent'], 4, labels=False)\n",
    "# this is the county quartile, I need the state quartile"
   ]
  },
  {
   "cell_type": "code",
   "execution_count": 13,
   "id": "df49966e",
   "metadata": {
    "execution": {
     "iopub.execute_input": "2022-05-24T01:03:42.219922Z",
     "iopub.status.busy": "2022-05-24T01:03:42.218941Z",
     "iopub.status.idle": "2022-05-24T01:03:42.227461Z",
     "shell.execute_reply": "2022-05-24T01:03:42.226734Z"
    },
    "papermill": {
     "duration": 0.040522,
     "end_time": "2022-05-24T01:03:42.229505",
     "exception": false,
     "start_time": "2022-05-24T01:03:42.188983",
     "status": "completed"
    },
    "tags": []
   },
   "outputs": [],
   "source": [
    "state_poverty = pd.qcut(df.groupby(by='State').povertyPercent.mean(), 4, labels=False)"
   ]
  },
  {
   "cell_type": "code",
   "execution_count": 14,
   "id": "48d22c4c",
   "metadata": {
    "execution": {
     "iopub.execute_input": "2022-05-24T01:03:42.288424Z",
     "iopub.status.busy": "2022-05-24T01:03:42.287273Z",
     "iopub.status.idle": "2022-05-24T01:03:42.292973Z",
     "shell.execute_reply": "2022-05-24T01:03:42.292112Z"
    },
    "papermill": {
     "duration": 0.037361,
     "end_time": "2022-05-24T01:03:42.294991",
     "exception": false,
     "start_time": "2022-05-24T01:03:42.257630",
     "status": "completed"
    },
    "tags": []
   },
   "outputs": [],
   "source": [
    "state_poverty = pd.DataFrame(state_poverty)\n",
    "# making the series into a dataframe to rejoin back into data for state poverty ranking"
   ]
  },
  {
   "cell_type": "code",
   "execution_count": 15,
   "id": "bb2a1478",
   "metadata": {
    "execution": {
     "iopub.execute_input": "2022-05-24T01:03:42.353621Z",
     "iopub.status.busy": "2022-05-24T01:03:42.352674Z",
     "iopub.status.idle": "2022-05-24T01:03:42.358826Z",
     "shell.execute_reply": "2022-05-24T01:03:42.357755Z"
    },
    "papermill": {
     "duration": 0.037937,
     "end_time": "2022-05-24T01:03:42.360903",
     "exception": false,
     "start_time": "2022-05-24T01:03:42.322966",
     "status": "completed"
    },
    "tags": []
   },
   "outputs": [],
   "source": [
    "# renaming column for rejoining to main dataframe\n",
    "state_poverty.rename(columns={'povertyPercent':'state_poverty_quartile'}, inplace=True)"
   ]
  },
  {
   "cell_type": "code",
   "execution_count": 16,
   "id": "fd7c9a70",
   "metadata": {
    "execution": {
     "iopub.execute_input": "2022-05-24T01:03:42.420527Z",
     "iopub.status.busy": "2022-05-24T01:03:42.419983Z",
     "iopub.status.idle": "2022-05-24T01:03:42.434111Z",
     "shell.execute_reply": "2022-05-24T01:03:42.433381Z"
    },
    "papermill": {
     "duration": 0.047659,
     "end_time": "2022-05-24T01:03:42.436497",
     "exception": false,
     "start_time": "2022-05-24T01:03:42.388838",
     "status": "completed"
    },
    "tags": []
   },
   "outputs": [],
   "source": [
    "df = df.merge(state_poverty, how='inner', on='State')\n",
    "#df.drop(columns='state_poverty_quartile', inplace=True)"
   ]
  },
  {
   "cell_type": "code",
   "execution_count": 17,
   "id": "b3a999da",
   "metadata": {
    "execution": {
     "iopub.execute_input": "2022-05-24T01:03:42.495404Z",
     "iopub.status.busy": "2022-05-24T01:03:42.494835Z",
     "iopub.status.idle": "2022-05-24T01:03:42.962660Z",
     "shell.execute_reply": "2022-05-24T01:03:42.961532Z"
    },
    "papermill": {
     "duration": 0.500086,
     "end_time": "2022-05-24T01:03:42.964865",
     "exception": false,
     "start_time": "2022-05-24T01:03:42.464779",
     "status": "completed"
    },
    "tags": []
   },
   "outputs": [
    {
     "data": {
      "text/plain": [
       "<AxesSubplot:xlabel='State', ylabel='povertyPercent'>"
      ]
     },
     "execution_count": 17,
     "metadata": {},
     "output_type": "execute_result"
    },
    {
     "data": {
      "image/png": "[encoded data removed]",
      "text/plain": [
       "<Figure size 1008x432 with 1 Axes>"
      ]
     },
     "metadata": {
      "needs_background": "light"
     },
     "output_type": "display_data"
    }
   ],
   "source": [
    "# boxplot for poverty IQR by state\n",
    "plt.figure(figsize=(14,6))\n",
    "plt.xticks(rotation=90)\n",
    "sns.boxplot(x='State', y='povertyPercent', hue='state_poverty_quartile', \n",
    "            data=df[df.state_poverty_quartile == 0])"
   ]
  },
  {
   "cell_type": "code",
   "execution_count": 18,
   "id": "9aac277b",
   "metadata": {
    "execution": {
     "iopub.execute_input": "2022-05-24T01:03:43.027019Z",
     "iopub.status.busy": "2022-05-24T01:03:43.026096Z",
     "iopub.status.idle": "2022-05-24T01:03:43.478738Z",
     "shell.execute_reply": "2022-05-24T01:03:43.477841Z"
    },
    "papermill": {
     "duration": 0.48639,
     "end_time": "2022-05-24T01:03:43.480883",
     "exception": false,
     "start_time": "2022-05-24T01:03:42.994493",
     "status": "completed"
    },
    "tags": []
   },
   "outputs": [
    {
     "data": {
      "text/plain": [
       "<AxesSubplot:xlabel='State', ylabel='povertyPercent'>"
      ]
     },
     "execution_count": 18,
     "metadata": {},
     "output_type": "execute_result"
    },
    {
     "data": {
      "image/png": "[encoded data removed]",
      "text/plain": [
       "<Figure size 1008x432 with 1 Axes>"
      ]
     },
     "metadata": {
      "needs_background": "light"
     },
     "output_type": "display_data"
    }
   ],
   "source": [
    "# boxplot for poverty IQR by state\n",
    "plt.figure(figsize=(14,6))\n",
    "plt.xticks(rotation=90)\n",
    "sns.boxplot(x='State', y='povertyPercent', hue='state_poverty_quartile', \n",
    "            data=df[df.state_poverty_quartile == 3])"
   ]
  },
  {
   "cell_type": "code",
   "execution_count": 19,
   "id": "0b4a310e",
   "metadata": {
    "execution": {
     "iopub.execute_input": "2022-05-24T01:03:43.545892Z",
     "iopub.status.busy": "2022-05-24T01:03:43.545279Z",
     "iopub.status.idle": "2022-05-24T01:03:43.548995Z",
     "shell.execute_reply": "2022-05-24T01:03:43.548396Z"
    },
    "papermill": {
     "duration": 0.038639,
     "end_time": "2022-05-24T01:03:43.550878",
     "exception": false,
     "start_time": "2022-05-24T01:03:43.512239",
     "status": "completed"
    },
    "tags": []
   },
   "outputs": [],
   "source": [
    "# I can do much more with this data set, I added calculations onto it to give extra value"
   ]
  }
 ],
 "metadata": {
  "kernelspec": {
   "display_name": "Python 3",
   "language": "python",
   "name": "python3"
  },
  "language_info": {
   "codemirror_mode": {
    "name": "ipython",
    "version": 3
   },
   "file_extension": ".py",
   "mimetype": "text/x-python",
   "name": "python",
   "nbconvert_exporter": "python",
   "pygments_lexer": "ipython3",
   "version": "3.7.12"
  },
  "papermill": {
   "default_parameters": {},
   "duration": 17.912041,
   "end_time": "2022-05-24T01:03:44.706872",
   "environment_variables": {},
   "exception": null,
   "input_path": "__notebook__.ipynb",
   "output_path": "__notebook__.ipynb",
   "parameters": {},
   "start_time": "2022-05-24T01:03:26.794831",
   "version": "2.3.4"
  }
 },
 "nbformat": 4,
 "nbformat_minor": 5
}
