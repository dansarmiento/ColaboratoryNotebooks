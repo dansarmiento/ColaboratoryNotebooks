{
 "cells": [
  {
   "cell_type": "code",
   "execution_count": 1,
   "id": "7e21a23f",
   "metadata": {
    "_cell_guid": "b1076dfc-b9ad-4769-8c92-a6c4dae69d19",
    "_uuid": "8f2839f25d086af736a60e9eeb907d3b93b6e0e5",
    "execution": {
     "iopub.execute_input": "2022-05-23T21:00:13.808263Z",
     "iopub.status.busy": "2022-05-23T21:00:13.807785Z",
     "iopub.status.idle": "2022-05-23T21:00:13.834273Z",
     "shell.execute_reply": "2022-05-23T21:00:13.832691Z"
    },
    "papermill": {
     "duration": 0.053754,
     "end_time": "2022-05-23T21:00:13.837582",
     "exception": false,
     "start_time": "2022-05-23T21:00:13.783828",
     "status": "completed"
    },
    "tags": []
   },
   "outputs": [
    {
     "name": "stdout",
     "output_type": "stream",
     "text": [
      "/kaggle/input/cancer-trials-in-the-united-statese/countyData.csv\n",
      "/kaggle/input/cancer-trials-in-the-united-statese/matrix_spc .png\n",
      "/kaggle/input/cancer-trials-in-the-united-statese/fullData.csv\n",
      "/kaggle/input/cancer-trials-in-the-united-statese/data_dict.csv\n",
      "/kaggle/input/cancer-trials-in-the-united-statese/inc_percaptrials.png\n",
      "/kaggle/input/cancer-trials-in-the-united-statese/cen_income.csv\n",
      "/kaggle/input/cancer-trials-in-the-united-statese/inc_trials.png\n",
      "/kaggle/input/cancer-trials-in-the-united-statese/inc_death.png\n",
      "/kaggle/input/cancer-trials-in-the-united-statese/doc.docx\n",
      "/kaggle/input/cancer-trials-in-the-united-statese/incd_r.csv\n",
      "/kaggle/input/cancer-trials-in-the-united-statese/pov_death.png\n",
      "/kaggle/input/cancer-trials-in-the-united-statese/inc_incidence.png\n",
      "/kaggle/input/cancer-trials-in-the-united-statese/extract_zips_10.py\n",
      "/kaggle/input/cancer-trials-in-the-united-statese/study_fields.csv\n",
      "/kaggle/input/cancer-trials-in-the-united-statese/fips_zip_x.csv\n",
      "/kaggle/input/cancer-trials-in-the-united-statese/death_r.csv\n",
      "/kaggle/input/cancer-trials-in-the-united-statese/zipCodeData.csv\n",
      "/kaggle/input/cancer-trials-in-the-united-statese/census_county_population.csv\n",
      "/kaggle/input/cancer-trials-in-the-united-statese/countByZip.csv\n"
     ]
    }
   ],
   "source": [
    "# This Python 3 environment comes with many helpful analytics libraries installed\n",
    "# It is defined by the kaggle/python Docker image: https://github.com/kaggle/docker-python\n",
    "# For example, here's several helpful packages to load\n",
    "\n",
    "import numpy as np # linear algebra\n",
    "import pandas as pd # data processing, CSV file I/O (e.g. pd.read_csv)\n",
    "\n",
    "# Input data files are available in the read-only \"../input/\" directory\n",
    "# For example, running this (by clicking run or pressing Shift+Enter) will list all files under the input directory\n",
    "\n",
    "import os\n",
    "for dirname, _, filenames in os.walk('/kaggle/input'):\n",
    "    for filename in filenames:\n",
    "        print(os.path.join(dirname, filename))\n",
    "\n",
    "# You can write up to 20GB to the current directory (/kaggle/working/) that gets preserved as output when you create a version using \"Save & Run All\" \n",
    "# You can also write temporary files to /kaggle/temp/, but they won't be saved outside of the current session"
   ]
  },
  {
   "cell_type": "code",
   "execution_count": 2,
   "id": "76c481e8",
   "metadata": {
    "execution": {
     "iopub.execute_input": "2022-05-23T21:00:13.881691Z",
     "iopub.status.busy": "2022-05-23T21:00:13.881129Z",
     "iopub.status.idle": "2022-05-23T21:00:14.104829Z",
     "shell.execute_reply": "2022-05-23T21:00:14.103227Z"
    },
    "papermill": {
     "duration": 0.249584,
     "end_time": "2022-05-23T21:00:14.107778",
     "exception": false,
     "start_time": "2022-05-23T21:00:13.858194",
     "status": "completed"
    },
    "tags": []
   },
   "outputs": [],
   "source": [
    "df = pd.read_csv('/kaggle/input/cancer-trials-in-the-united-statese/fullData.csv')\n",
    "df.head()\n",
    "# full data is the file I will clean and visualize, first need to drop the zip codes, index, countycode, county \n",
    "# then clean out duplicate rows\n",
    "df.drop(columns=['index','zipCode','countyCode','studyCount','County','Name'], inplace=True)\n"
   ]
  },
  {
   "cell_type": "code",
   "execution_count": 3,
   "id": "6ec745cd",
   "metadata": {
    "execution": {
     "iopub.execute_input": "2022-05-23T21:00:14.153421Z",
     "iopub.status.busy": "2022-05-23T21:00:14.152795Z",
     "iopub.status.idle": "2022-05-23T21:00:14.192858Z",
     "shell.execute_reply": "2022-05-23T21:00:14.191917Z"
    },
    "papermill": {
     "duration": 0.066129,
     "end_time": "2022-05-23T21:00:14.196008",
     "exception": false,
     "start_time": "2022-05-23T21:00:14.129879",
     "status": "completed"
    },
    "tags": []
   },
   "outputs": [],
   "source": [
    "df = df.drop_duplicates()"
   ]
  },
  {
   "cell_type": "code",
   "execution_count": 4,
   "id": "ae33ac49",
   "metadata": {
    "execution": {
     "iopub.execute_input": "2022-05-23T21:00:14.241551Z",
     "iopub.status.busy": "2022-05-23T21:00:14.240592Z",
     "iopub.status.idle": "2022-05-23T21:00:14.245927Z",
     "shell.execute_reply": "2022-05-23T21:00:14.245255Z"
    },
    "papermill": {
     "duration": 0.030876,
     "end_time": "2022-05-23T21:00:14.248358",
     "exception": false,
     "start_time": "2022-05-23T21:00:14.217482",
     "status": "completed"
    },
    "tags": []
   },
   "outputs": [],
   "source": [
    "# df.reset_index(inplace=True)\n",
    "# df.drop(columns=['level_0','index'],inplace=True)\n",
    "# recTrend is the cancer mortality recent trend\n",
    "# recentTrend is cancer incidence recent trend\n",
    "# looks like this dataset is ripe for seaborn visual analysis"
   ]
  },
  {
   "cell_type": "code",
   "execution_count": 5,
   "id": "4fe84ec2",
   "metadata": {
    "execution": {
     "iopub.execute_input": "2022-05-23T21:00:14.293221Z",
     "iopub.status.busy": "2022-05-23T21:00:14.292582Z",
     "iopub.status.idle": "2022-05-23T21:00:14.296279Z",
     "shell.execute_reply": "2022-05-23T21:00:14.295448Z"
    },
    "papermill": {
     "duration": 0.029865,
     "end_time": "2022-05-23T21:00:14.299322",
     "exception": false,
     "start_time": "2022-05-23T21:00:14.269457",
     "status": "completed"
    },
    "tags": []
   },
   "outputs": [],
   "source": [
    "#df_dict = pd.read_csv('/kaggle/input/cancer-trials-in-the-united-statese/data_dict.csv')\n",
    "#df_dict\n",
    "# Columns need more descriptive names"
   ]
  },
  {
   "cell_type": "code",
   "execution_count": 6,
   "id": "06b18a24",
   "metadata": {
    "execution": {
     "iopub.execute_input": "2022-05-23T21:00:14.346129Z",
     "iopub.status.busy": "2022-05-23T21:00:14.345644Z",
     "iopub.status.idle": "2022-05-23T21:00:14.355532Z",
     "shell.execute_reply": "2022-05-23T21:00:14.354785Z"
    },
    "papermill": {
     "duration": 0.035997,
     "end_time": "2022-05-23T21:00:14.358111",
     "exception": false,
     "start_time": "2022-05-23T21:00:14.322114",
     "status": "completed"
    },
    "tags": []
   },
   "outputs": [
    {
     "data": {
      "text/plain": [
       "Index(['State', 'poverty_pop', 'povertyPercent', 'medIncome', 'popEst2015',\n",
       "       'incidenceRate', 'avgAnnCount', 'inc_recent_trend',\n",
       "       'inc_five_year_trend', 'countyName', 'death_per_k', 'avgDeathsPerYear',\n",
       "       'cx_mort_recent_trend'],\n",
       "      dtype='object')"
      ]
     },
     "execution_count": 6,
     "metadata": {},
     "output_type": "execute_result"
    }
   ],
   "source": [
    "df.rename(columns={'PovertyEst':'poverty_pop', 'recentTrend':'inc_recent_trend','fiveYearTrend':'inc_five_year_trend','deathRate':'death_per_k',\n",
    "                  'recTrend':'cx_mort_recent_trend'}, inplace=True)\n",
    "df.columns"
   ]
  },
  {
   "cell_type": "code",
   "execution_count": 7,
   "id": "34cf0a54",
   "metadata": {
    "execution": {
     "iopub.execute_input": "2022-05-23T21:00:14.404975Z",
     "iopub.status.busy": "2022-05-23T21:00:14.404489Z",
     "iopub.status.idle": "2022-05-23T21:00:15.889266Z",
     "shell.execute_reply": "2022-05-23T21:00:15.888523Z"
    },
    "papermill": {
     "duration": 1.510663,
     "end_time": "2022-05-23T21:00:15.891693",
     "exception": false,
     "start_time": "2022-05-23T21:00:14.381030",
     "status": "completed"
    },
    "tags": []
   },
   "outputs": [],
   "source": [
    "import matplotlib.pyplot as plt\n",
    "import seaborn as sns\n",
    "%matplotlib inline"
   ]
  },
  {
   "cell_type": "markdown",
   "id": "f5ec03d7",
   "metadata": {
    "papermill": {
     "duration": 0.023819,
     "end_time": "2022-05-23T21:00:15.939752",
     "exception": false,
     "start_time": "2022-05-23T21:00:15.915933",
     "status": "completed"
    },
    "tags": []
   },
   "source": [
    "seaborn charts I want to try:\n",
    "1) scatter\n",
    "2) displot\n",
    "3) boxplot\n",
    "4) catplot\n",
    "5) violinplot\n",
    "6) histplot\n",
    "7) stripplot\n",
    "8) jointgrid\n",
    "9) relplot\n",
    "10) pairplot"
   ]
  },
  {
   "cell_type": "code",
   "execution_count": 8,
   "id": "c3b18390",
   "metadata": {
    "execution": {
     "iopub.execute_input": "2022-05-23T21:00:15.987565Z",
     "iopub.status.busy": "2022-05-23T21:00:15.986802Z",
     "iopub.status.idle": "2022-05-23T21:00:16.048795Z",
     "shell.execute_reply": "2022-05-23T21:00:16.047192Z"
    },
    "papermill": {
     "duration": 0.088155,
     "end_time": "2022-05-23T21:00:16.051254",
     "exception": false,
     "start_time": "2022-05-23T21:00:15.963099",
     "status": "completed"
    },
    "tags": []
   },
   "outputs": [
    {
     "data": {
      "text/html": [
       "<div>\n",
       "<style scoped>\n",
       "    .dataframe tbody tr th:only-of-type {\n",
       "        vertical-align: middle;\n",
       "    }\n",
       "\n",
       "    .dataframe tbody tr th {\n",
       "        vertical-align: top;\n",
       "    }\n",
       "\n",
       "    .dataframe thead th {\n",
       "        text-align: right;\n",
       "    }\n",
       "</style>\n",
       "<table border=\"1\" class=\"dataframe\">\n",
       "  <thead>\n",
       "    <tr style=\"text-align: right;\">\n",
       "      <th></th>\n",
       "      <th>poverty_pop</th>\n",
       "      <th>povertyPercent</th>\n",
       "      <th>medIncome</th>\n",
       "      <th>popEst2015</th>\n",
       "      <th>incidenceRate</th>\n",
       "      <th>avgAnnCount</th>\n",
       "      <th>death_per_k</th>\n",
       "      <th>avgDeathsPerYear</th>\n",
       "    </tr>\n",
       "  </thead>\n",
       "  <tbody>\n",
       "    <tr>\n",
       "      <th>count</th>\n",
       "      <td>3072.00</td>\n",
       "      <td>3072.00</td>\n",
       "      <td>3072.00</td>\n",
       "      <td>3072.00</td>\n",
       "      <td>3072.00</td>\n",
       "      <td>3072.00</td>\n",
       "      <td>3072.00</td>\n",
       "      <td>3072.00</td>\n",
       "    </tr>\n",
       "    <tr>\n",
       "      <th>mean</th>\n",
       "      <td>15679.78</td>\n",
       "      <td>16.87</td>\n",
       "      <td>47091.27</td>\n",
       "      <td>104546.96</td>\n",
       "      <td>448.29</td>\n",
       "      <td>612.50</td>\n",
       "      <td>178.62</td>\n",
       "      <td>187.77</td>\n",
       "    </tr>\n",
       "    <tr>\n",
       "      <th>std</th>\n",
       "      <td>56146.75</td>\n",
       "      <td>6.41</td>\n",
       "      <td>12079.96</td>\n",
       "      <td>332595.92</td>\n",
       "      <td>54.48</td>\n",
       "      <td>1422.85</td>\n",
       "      <td>27.73</td>\n",
       "      <td>506.49</td>\n",
       "    </tr>\n",
       "    <tr>\n",
       "      <th>min</th>\n",
       "      <td>91.00</td>\n",
       "      <td>3.20</td>\n",
       "      <td>22640.00</td>\n",
       "      <td>827.00</td>\n",
       "      <td>201.30</td>\n",
       "      <td>6.00</td>\n",
       "      <td>59.70</td>\n",
       "      <td>3.00</td>\n",
       "    </tr>\n",
       "    <tr>\n",
       "      <th>25%</th>\n",
       "      <td>1889.50</td>\n",
       "      <td>12.18</td>\n",
       "      <td>38876.25</td>\n",
       "      <td>11739.00</td>\n",
       "      <td>420.48</td>\n",
       "      <td>76.00</td>\n",
       "      <td>161.20</td>\n",
       "      <td>28.00</td>\n",
       "    </tr>\n",
       "    <tr>\n",
       "      <th>50%</th>\n",
       "      <td>4435.50</td>\n",
       "      <td>15.90</td>\n",
       "      <td>45201.00</td>\n",
       "      <td>26932.00</td>\n",
       "      <td>453.55</td>\n",
       "      <td>173.00</td>\n",
       "      <td>178.15</td>\n",
       "      <td>62.00</td>\n",
       "    </tr>\n",
       "    <tr>\n",
       "      <th>75%</th>\n",
       "      <td>10865.50</td>\n",
       "      <td>20.40</td>\n",
       "      <td>52509.25</td>\n",
       "      <td>69715.00</td>\n",
       "      <td>480.90</td>\n",
       "      <td>522.25</td>\n",
       "      <td>195.20</td>\n",
       "      <td>150.00</td>\n",
       "    </tr>\n",
       "    <tr>\n",
       "      <th>max</th>\n",
       "      <td>1863025.00</td>\n",
       "      <td>47.40</td>\n",
       "      <td>125635.00</td>\n",
       "      <td>10170292.00</td>\n",
       "      <td>1206.90</td>\n",
       "      <td>38150.00</td>\n",
       "      <td>362.80</td>\n",
       "      <td>14010.00</td>\n",
       "    </tr>\n",
       "  </tbody>\n",
       "</table>\n",
       "</div>"
      ],
      "text/plain": [
       "       poverty_pop  povertyPercent  medIncome   popEst2015  incidenceRate  \\\n",
       "count      3072.00         3072.00    3072.00      3072.00        3072.00   \n",
       "mean      15679.78           16.87   47091.27    104546.96         448.29   \n",
       "std       56146.75            6.41   12079.96    332595.92          54.48   \n",
       "min          91.00            3.20   22640.00       827.00         201.30   \n",
       "25%        1889.50           12.18   38876.25     11739.00         420.48   \n",
       "50%        4435.50           15.90   45201.00     26932.00         453.55   \n",
       "75%       10865.50           20.40   52509.25     69715.00         480.90   \n",
       "max     1863025.00           47.40  125635.00  10170292.00        1206.90   \n",
       "\n",
       "       avgAnnCount  death_per_k  avgDeathsPerYear  \n",
       "count      3072.00      3072.00           3072.00  \n",
       "mean        612.50       178.62            187.77  \n",
       "std        1422.85        27.73            506.49  \n",
       "min           6.00        59.70              3.00  \n",
       "25%          76.00       161.20             28.00  \n",
       "50%         173.00       178.15             62.00  \n",
       "75%         522.25       195.20            150.00  \n",
       "max       38150.00       362.80          14010.00  "
      ]
     },
     "execution_count": 8,
     "metadata": {},
     "output_type": "execute_result"
    }
   ],
   "source": [
    "df.describe().round(2)\n",
    "# the describe gives a lot of ideas of data distribution to visualize\n",
    "# first one is the poverty population IQR per state"
   ]
  },
  {
   "cell_type": "markdown",
   "id": "11baa799",
   "metadata": {
    "papermill": {
     "duration": 0.024951,
     "end_time": "2022-05-23T21:00:16.101955",
     "exception": false,
     "start_time": "2022-05-23T21:00:16.077004",
     "status": "completed"
    },
    "tags": []
   },
   "source": [
    "*, x=None, y=None, hue=None, style=None, size=None, data=None, palette=None, hue_order=None, hue_norm=None, sizes=None, size_order=None, size_norm=None, markers=True, style_order=None, x_bins=None, y_bins=None, units=None, estimator=None, ci=95, n_boot=1000, alpha=None, x_jitter=None, y_jitter=None, legend='auto', ax=None, "
   ]
  },
  {
   "cell_type": "code",
   "execution_count": null,
   "id": "221d8109",
   "metadata": {
    "papermill": {
     "duration": 0.021778,
     "end_time": "2022-05-23T21:00:16.145868",
     "exception": false,
     "start_time": "2022-05-23T21:00:16.124090",
     "status": "completed"
    },
    "tags": []
   },
   "outputs": [],
   "source": []
  },
  {
   "cell_type": "markdown",
   "id": "798e43cf",
   "metadata": {
    "papermill": {
     "duration": 0.021242,
     "end_time": "2022-05-23T21:00:16.191916",
     "exception": false,
     "start_time": "2022-05-23T21:00:16.170674",
     "status": "completed"
    },
    "tags": []
   },
   "source": [
    "BOXPLOT\n",
    "x=None, y=None, hue=None, data=None, order=None, hue_order=None, orient=None, color=None, palette=None, saturation=0.75, width=0.8, dodge=True, fliersize=5, linewidth=None, whis=1.5, ax=None"
   ]
  },
  {
   "cell_type": "code",
   "execution_count": 9,
   "id": "7d857ae2",
   "metadata": {
    "execution": {
     "iopub.execute_input": "2022-05-23T21:00:16.237109Z",
     "iopub.status.busy": "2022-05-23T21:00:16.236783Z",
     "iopub.status.idle": "2022-05-23T21:00:17.583765Z",
     "shell.execute_reply": "2022-05-23T21:00:17.582556Z"
    },
    "papermill": {
     "duration": 1.374572,
     "end_time": "2022-05-23T21:00:17.586935",
     "exception": false,
     "start_time": "2022-05-23T21:00:16.212363",
     "status": "completed"
    },
    "tags": []
   },
   "outputs": [
    {
     "data": {
      "text/plain": [
       "<AxesSubplot:xlabel='State', ylabel='povertyPercent'>"
      ]
     },
     "execution_count": 9,
     "metadata": {},
     "output_type": "execute_result"
    },
    {
     "data": {
      "image/png": "[encoded data removed]",
      "text/plain": [
       "<Figure size 864x432 with 1 Axes>"
      ]
     },
     "metadata": {
      "needs_background": "light"
     },
     "output_type": "display_data"
    }
   ],
   "source": [
    "# boxplot for poverty IQR by state\n",
    "plt.figure(figsize=(12,6))\n",
    "plt.xticks(rotation=90)\n",
    "sns.boxplot(x='State', y='povertyPercent', data=df)\n",
    "# I want to order this by the mean poverty percent by state"
   ]
  },
  {
   "cell_type": "markdown",
   "id": "352e4189",
   "metadata": {
    "papermill": {
     "duration": 0.022582,
     "end_time": "2022-05-23T21:00:17.635088",
     "exception": false,
     "start_time": "2022-05-23T21:00:17.612506",
     "status": "completed"
    },
    "tags": []
   },
   "source": [
    "If I created quartiles for which states had the highest avg poverty, I bet you wouldn't be surprised"
   ]
  },
  {
   "cell_type": "markdown",
   "id": "d13977e6",
   "metadata": {
    "papermill": {
     "duration": 0.027876,
     "end_time": "2022-05-23T21:00:17.686595",
     "exception": false,
     "start_time": "2022-05-23T21:00:17.658719",
     "status": "completed"
    },
    "tags": []
   },
   "source": []
  },
  {
   "cell_type": "code",
   "execution_count": 10,
   "id": "4a3e7ddd",
   "metadata": {
    "execution": {
     "iopub.execute_input": "2022-05-23T21:00:17.737423Z",
     "iopub.status.busy": "2022-05-23T21:00:17.737087Z",
     "iopub.status.idle": "2022-05-23T21:00:17.745806Z",
     "shell.execute_reply": "2022-05-23T21:00:17.745009Z"
    },
    "papermill": {
     "duration": 0.03658,
     "end_time": "2022-05-23T21:00:17.748354",
     "exception": false,
     "start_time": "2022-05-23T21:00:17.711774",
     "status": "completed"
    },
    "tags": []
   },
   "outputs": [],
   "source": [
    "pov_order = df.groupby(by='State').povertyPercent.mean().sort_values().index"
   ]
  },
  {
   "cell_type": "code",
   "execution_count": 11,
   "id": "84b43195",
   "metadata": {
    "execution": {
     "iopub.execute_input": "2022-05-23T21:00:17.795669Z",
     "iopub.status.busy": "2022-05-23T21:00:17.795140Z",
     "iopub.status.idle": "2022-05-23T21:00:19.240774Z",
     "shell.execute_reply": "2022-05-23T21:00:19.239800Z"
    },
    "papermill": {
     "duration": 1.472696,
     "end_time": "2022-05-23T21:00:19.243115",
     "exception": false,
     "start_time": "2022-05-23T21:00:17.770419",
     "status": "completed"
    },
    "tags": []
   },
   "outputs": [
    {
     "data": {
      "text/plain": [
       "<AxesSubplot:xlabel='State', ylabel='povertyPercent'>"
      ]
     },
     "execution_count": 11,
     "metadata": {},
     "output_type": "execute_result"
    },
    {
     "data": {
      "image/png": "[encoded data removed]",
      "text/plain": [
       "<Figure size 864x432 with 1 Axes>"
      ]
     },
     "metadata": {
      "needs_background": "light"
     },
     "output_type": "display_data"
    }
   ],
   "source": [
    "# boxplot for poverty IQR by state\n",
    "plt.figure(figsize=(12,6))\n",
    "plt.xticks(rotation=90)\n",
    "sns.boxplot(x='State', y='povertyPercent', data=df, order=pov_order)\n",
    "# I want to add a label for the quartile poverty percent the county is in nationally"
   ]
  },
  {
   "cell_type": "code",
   "execution_count": 12,
   "id": "60aeeba7",
   "metadata": {
    "execution": {
     "iopub.execute_input": "2022-05-23T21:00:19.300552Z",
     "iopub.status.busy": "2022-05-23T21:00:19.300224Z",
     "iopub.status.idle": "2022-05-23T21:00:19.306884Z",
     "shell.execute_reply": "2022-05-23T21:00:19.305928Z"
    },
    "papermill": {
     "duration": 0.038736,
     "end_time": "2022-05-23T21:00:19.309359",
     "exception": false,
     "start_time": "2022-05-23T21:00:19.270623",
     "status": "completed"
    },
    "tags": []
   },
   "outputs": [],
   "source": [
    "# how do I add the ntile for a value\n",
    "# df['Quantile_rank'] = pd.qcut(df['Score'], 4,labels = False)\n",
    "df['poverty_quartiles'] = pd.qcut(df['povertyPercent'], 4, labels=False)"
   ]
  },
  {
   "cell_type": "code",
   "execution_count": null,
   "id": "14c0d539",
   "metadata": {
    "execution": {
     "iopub.execute_input": "2022-05-23T20:59:36.311378Z",
     "iopub.status.busy": "2022-05-23T20:59:36.310252Z",
     "iopub.status.idle": "2022-05-23T20:59:36.518769Z",
     "shell.execute_reply": "2022-05-23T20:59:36.517366Z",
     "shell.execute_reply.started": "2022-05-23T20:59:36.311324Z"
    },
    "papermill": {
     "duration": 0.02442,
     "end_time": "2022-05-23T21:00:19.359387",
     "exception": false,
     "start_time": "2022-05-23T21:00:19.334967",
     "status": "completed"
    },
    "tags": []
   },
   "outputs": [],
   "source": []
  },
  {
   "cell_type": "code",
   "execution_count": null,
   "id": "7647c41b",
   "metadata": {
    "papermill": {
     "duration": 0.026799,
     "end_time": "2022-05-23T21:00:19.412738",
     "exception": false,
     "start_time": "2022-05-23T21:00:19.385939",
     "status": "completed"
    },
    "tags": []
   },
   "outputs": [],
   "source": []
  }
 ],
 "metadata": {
  "kernelspec": {
   "display_name": "Python 3",
   "language": "python",
   "name": "python3"
  },
  "language_info": {
   "codemirror_mode": {
    "name": "ipython",
    "version": 3
   },
   "file_extension": ".py",
   "mimetype": "text/x-python",
   "name": "python",
   "nbconvert_exporter": "python",
   "pygments_lexer": "ipython3",
   "version": "3.7.12"
  },
  "papermill": {
   "default_parameters": {},
   "duration": 20.895516,
   "end_time": "2022-05-23T21:00:20.465176",
   "environment_variables": {},
   "exception": null,
   "input_path": "__notebook__.ipynb",
   "output_path": "__notebook__.ipynb",
   "parameters": {},
   "start_time": "2022-05-23T20:59:59.569660",
   "version": "2.3.4"
  }
 },
 "nbformat": 4,
 "nbformat_minor": 5
}
