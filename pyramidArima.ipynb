{
  "nbformat": 4,
  "nbformat_minor": 0,
  "metadata": {
    "colab": {
      "name": "pyramidArima.ipynb",
      "provenance": [],
      "collapsed_sections": [],
      "include_colab_link": true
    },
    "kernelspec": {
      "name": "python3",
      "display_name": "Python 3"
    }
  },
  "cells": [
    {
      "cell_type": "markdown",
      "metadata": {
        "id": "view-in-github",
        "colab_type": "text"
      },
      "source": [
        "<a href=\"https://colab.research.google.com/github/dansarmiento/ColaboratoryRunningAnalysis/blob/main/pyramidArima.ipynb\" target=\"_parent\"><img src=\"https://colab.research.google.com/assets/colab-badge.svg\" alt=\"Open In Colab\"/></a>"
      ]
    },
    {
      "cell_type": "markdown",
      "metadata": {
        "id": "n1QNUsZM1Adt"
      },
      "source": [
        "This a simple example of implementing Autoregressive Integrated Moving Average (ARIMA) model in Python."
      ]
    },
    {
      "cell_type": "markdown",
      "metadata": {
        "id": "iVdfnDp12MQq"
      },
      "source": [
        "Install Pyramid ARIMA"
      ]
    },
    {
      "cell_type": "code",
      "metadata": {
        "id": "hfU6zO690-__",
        "colab": {
          "base_uri": "https://localhost:8080/"
        },
        "outputId": "1e4a921f-d697-402b-a71c-2df66f92b833"
      },
      "source": [
        "! pip install pmdarima\n"
      ],
      "execution_count": null,
      "outputs": [
        {
          "output_type": "stream",
          "name": "stdout",
          "text": [
            "Collecting pmdarima\n",
            "  Downloading pmdarima-1.8.5-cp37-cp37m-manylinux_2_17_x86_64.manylinux2014_x86_64.manylinux_2_24_x86_64.whl (1.4 MB)\n",
            "\u001b[K     |████████████████████████████████| 1.4 MB 5.1 MB/s \n",
            "\u001b[?25hRequirement already satisfied: joblib>=0.11 in /usr/local/lib/python3.7/dist-packages (from pmdarima) (1.1.0)\n",
            "Requirement already satisfied: numpy>=1.19.3 in /usr/local/lib/python3.7/dist-packages (from pmdarima) (1.21.5)\n",
            "Requirement already satisfied: urllib3 in /usr/local/lib/python3.7/dist-packages (from pmdarima) (1.24.3)\n",
            "Collecting statsmodels!=0.12.0,>=0.11\n",
            "  Downloading statsmodels-0.13.2-cp37-cp37m-manylinux_2_17_x86_64.manylinux2014_x86_64.whl (9.8 MB)\n",
            "\u001b[K     |████████████████████████████████| 9.8 MB 13.2 MB/s \n",
            "\u001b[?25hRequirement already satisfied: scikit-learn>=0.22 in /usr/local/lib/python3.7/dist-packages (from pmdarima) (1.0.2)\n",
            "Requirement already satisfied: setuptools!=50.0.0,>=38.6.0 in /usr/local/lib/python3.7/dist-packages (from pmdarima) (57.4.0)\n",
            "Requirement already satisfied: Cython!=0.29.18,>=0.29 in /usr/local/lib/python3.7/dist-packages (from pmdarima) (0.29.28)\n",
            "Requirement already satisfied: scipy>=1.3.2 in /usr/local/lib/python3.7/dist-packages (from pmdarima) (1.4.1)\n",
            "Requirement already satisfied: pandas>=0.19 in /usr/local/lib/python3.7/dist-packages (from pmdarima) (1.3.5)\n",
            "Requirement already satisfied: python-dateutil>=2.7.3 in /usr/local/lib/python3.7/dist-packages (from pandas>=0.19->pmdarima) (2.8.2)\n",
            "Requirement already satisfied: pytz>=2017.3 in /usr/local/lib/python3.7/dist-packages (from pandas>=0.19->pmdarima) (2018.9)\n",
            "Requirement already satisfied: six>=1.5 in /usr/local/lib/python3.7/dist-packages (from python-dateutil>=2.7.3->pandas>=0.19->pmdarima) (1.15.0)\n",
            "Requirement already satisfied: threadpoolctl>=2.0.0 in /usr/local/lib/python3.7/dist-packages (from scikit-learn>=0.22->pmdarima) (3.1.0)\n",
            "Requirement already satisfied: patsy>=0.5.2 in /usr/local/lib/python3.7/dist-packages (from statsmodels!=0.12.0,>=0.11->pmdarima) (0.5.2)\n",
            "Requirement already satisfied: packaging>=21.3 in /usr/local/lib/python3.7/dist-packages (from statsmodels!=0.12.0,>=0.11->pmdarima) (21.3)\n",
            "Requirement already satisfied: pyparsing!=3.0.5,>=2.0.2 in /usr/local/lib/python3.7/dist-packages (from packaging>=21.3->statsmodels!=0.12.0,>=0.11->pmdarima) (3.0.7)\n",
            "Installing collected packages: statsmodels, pmdarima\n",
            "  Attempting uninstall: statsmodels\n",
            "    Found existing installation: statsmodels 0.10.2\n",
            "    Uninstalling statsmodels-0.10.2:\n",
            "      Successfully uninstalled statsmodels-0.10.2\n",
            "Successfully installed pmdarima-1.8.5 statsmodels-0.13.2\n"
          ]
        }
      ]
    },
    {
      "cell_type": "markdown",
      "metadata": {
        "id": "uvL0DXsF2TdK"
      },
      "source": [
        "Import pandas, numpy, matplotlib.pyplot and pmdamira. "
      ]
    },
    {
      "cell_type": "code",
      "metadata": {
        "id": "19AXUWi7cxJa"
      },
      "source": [
        "import pandas as pd"
      ],
      "execution_count": null,
      "outputs": []
    },
    {
      "cell_type": "code",
      "metadata": {
        "id": "1qmFSIxgsHVp"
      },
      "source": [
        "import numpy as np"
      ],
      "execution_count": null,
      "outputs": []
    },
    {
      "cell_type": "code",
      "metadata": {
        "id": "J6e7sWPbviH0"
      },
      "source": [
        "import matplotlib.pyplot as plt"
      ],
      "execution_count": null,
      "outputs": []
    },
    {
      "cell_type": "code",
      "metadata": {
        "id": "K5sB0Q9-K-Ar"
      },
      "source": [
        "import pmdarima as pm"
      ],
      "execution_count": null,
      "outputs": []
    },
    {
      "cell_type": "code",
      "metadata": {
        "id": "YNmUQoxIL7Ac"
      },
      "source": [
        "import tensorflow as tf\n"
      ],
      "execution_count": null,
      "outputs": []
    },
    {
      "cell_type": "markdown",
      "metadata": {
        "id": "0Xk8cj3T26Oy"
      },
      "source": [
        "Create an array of 4 pi radians with an interval of 0.1"
      ]
    },
    {
      "cell_type": "code",
      "metadata": {
        "id": "tt0vXBhosWEG"
      },
      "source": [
        "x=np.arange(0,4*np.pi,0.1)"
      ],
      "execution_count": null,
      "outputs": []
    },
    {
      "cell_type": "code",
      "metadata": {
        "id": "94WbfMB8WUGt",
        "colab": {
          "base_uri": "https://localhost:8080/"
        },
        "outputId": "90264fb2-2fea-4353-e5fd-dd368a9ebfd0"
      },
      "source": [
        "print(x)"
      ],
      "execution_count": null,
      "outputs": [
        {
          "output_type": "stream",
          "name": "stdout",
          "text": [
            "[ 0.   0.1  0.2  0.3  0.4  0.5  0.6  0.7  0.8  0.9  1.   1.1  1.2  1.3\n",
            "  1.4  1.5  1.6  1.7  1.8  1.9  2.   2.1  2.2  2.3  2.4  2.5  2.6  2.7\n",
            "  2.8  2.9  3.   3.1  3.2  3.3  3.4  3.5  3.6  3.7  3.8  3.9  4.   4.1\n",
            "  4.2  4.3  4.4  4.5  4.6  4.7  4.8  4.9  5.   5.1  5.2  5.3  5.4  5.5\n",
            "  5.6  5.7  5.8  5.9  6.   6.1  6.2  6.3  6.4  6.5  6.6  6.7  6.8  6.9\n",
            "  7.   7.1  7.2  7.3  7.4  7.5  7.6  7.7  7.8  7.9  8.   8.1  8.2  8.3\n",
            "  8.4  8.5  8.6  8.7  8.8  8.9  9.   9.1  9.2  9.3  9.4  9.5  9.6  9.7\n",
            "  9.8  9.9 10.  10.1 10.2 10.3 10.4 10.5 10.6 10.7 10.8 10.9 11.  11.1\n",
            " 11.2 11.3 11.4 11.5 11.6 11.7 11.8 11.9 12.  12.1 12.2 12.3 12.4 12.5]\n"
          ]
        }
      ]
    },
    {
      "cell_type": "markdown",
      "metadata": {
        "id": "rDtfCbkY3CTj"
      },
      "source": [
        "Create an array of equivalent sine values."
      ]
    },
    {
      "cell_type": "code",
      "metadata": {
        "id": "xsrSMrXN7pco"
      },
      "source": [
        "y=np.sin(x)"
      ],
      "execution_count": null,
      "outputs": []
    },
    {
      "cell_type": "code",
      "metadata": {
        "id": "20-P5gmescAT",
        "colab": {
          "base_uri": "https://localhost:8080/"
        },
        "outputId": "983ba8e2-8189-474e-b3e7-832a4357514d"
      },
      "source": [
        "print(y)"
      ],
      "execution_count": null,
      "outputs": [
        {
          "output_type": "stream",
          "name": "stdout",
          "text": [
            "[ 0.          0.09983342  0.19866933  0.29552021  0.38941834  0.47942554\n",
            "  0.56464247  0.64421769  0.71735609  0.78332691  0.84147098  0.89120736\n",
            "  0.93203909  0.96355819  0.98544973  0.99749499  0.9995736   0.99166481\n",
            "  0.97384763  0.94630009  0.90929743  0.86320937  0.8084964   0.74570521\n",
            "  0.67546318  0.59847214  0.51550137  0.42737988  0.33498815  0.23924933\n",
            "  0.14112001  0.04158066 -0.05837414 -0.15774569 -0.2555411  -0.35078323\n",
            " -0.44252044 -0.52983614 -0.61185789 -0.68776616 -0.7568025  -0.81827711\n",
            " -0.87157577 -0.91616594 -0.95160207 -0.97753012 -0.993691   -0.99992326\n",
            " -0.99616461 -0.98245261 -0.95892427 -0.92581468 -0.88345466 -0.83226744\n",
            " -0.77276449 -0.70554033 -0.63126664 -0.55068554 -0.46460218 -0.37387666\n",
            " -0.2794155  -0.1821625  -0.0830894   0.0168139   0.1165492   0.21511999\n",
            "  0.31154136  0.40484992  0.49411335  0.57843976  0.6569866   0.72896904\n",
            "  0.79366786  0.85043662  0.8987081   0.93799998  0.96791967  0.98816823\n",
            "  0.99854335  0.99894134  0.98935825  0.96988981  0.94073056  0.90217183\n",
            "  0.85459891  0.79848711  0.7343971   0.66296923  0.58491719  0.50102086\n",
            "  0.41211849  0.31909836  0.22288991  0.12445442  0.02477543 -0.07515112\n",
            " -0.17432678 -0.27176063 -0.36647913 -0.45753589 -0.54402111 -0.62507065\n",
            " -0.69987469 -0.76768581 -0.82782647 -0.87969576 -0.92277542 -0.95663502\n",
            " -0.98093623 -0.99543625 -0.99999021 -0.99455259 -0.97917773 -0.95401925\n",
            " -0.91932853 -0.87545217 -0.82282859 -0.76198358 -0.69352508 -0.61813711\n",
            " -0.53657292 -0.44964746 -0.35822928 -0.26323179 -0.16560418 -0.0663219 ]\n"
          ]
        }
      ]
    },
    {
      "cell_type": "code",
      "metadata": {
        "id": "9gJexk-5d_9I",
        "colab": {
          "base_uri": "https://localhost:8080/",
          "height": 282
        },
        "outputId": "bfef6975-131a-49fc-c357-096cae3f2c91"
      },
      "source": [
        "plt.plot(y)"
      ],
      "execution_count": null,
      "outputs": [
        {
          "output_type": "execute_result",
          "data": {
            "text/plain": [
              "[<matplotlib.lines.Line2D at 0x7fe6af96e250>]"
            ]
          },
          "metadata": {},
          "execution_count": 11
        },
        {
          "output_type": "display_data",
          "data": {
            "text/plain": [
              "<Figure size 432x288 with 1 Axes>"
            ],
            "image/png": "[encoded data removed]"
          },
          "metadata": {
            "needs_background": "light"
          }
        }
      ]
    },
    {
      "cell_type": "markdown",
      "metadata": {
        "id": "8AaiI-N33W0E"
      },
      "source": [
        "Import auto_arima."
      ]
    },
    {
      "cell_type": "code",
      "metadata": {
        "id": "mM7GJZbBJKzR"
      },
      "source": [
        "from pmdarima import auto_arima"
      ],
      "execution_count": null,
      "outputs": []
    },
    {
      "cell_type": "markdown",
      "metadata": {
        "id": "7GJ9hMqM3gjQ"
      },
      "source": [
        "Plot the Auto Correlation Function (ACF) for the input data."
      ]
    },
    {
      "cell_type": "code",
      "metadata": {
        "id": "Ag9dPw4VNNy3",
        "colab": {
          "base_uri": "https://localhost:8080/"
        },
        "outputId": "4faccfc4-cf6b-4e0e-e562-6c17083b523c"
      },
      "source": [
        "pm.acf(y)"
      ],
      "execution_count": null,
      "outputs": [
        {
          "output_type": "execute_result",
          "data": {
            "text/plain": [
              "array([ 1.        ,  0.995022  ,  0.9802607 ,  0.95602062,  0.92269785,\n",
              "        0.88077454,  0.83081257,  0.77344655,  0.70937611,  0.63935762,\n",
              "        0.5641955 ,  0.48473314,  0.40184352,  0.31641972,  0.22936536,\n",
              "        0.14158503,  0.05397494, -0.03258623, -0.11724615, -0.19918726,\n",
              "       -0.27763457, -0.35186308])"
            ]
          },
          "metadata": {},
          "execution_count": 13
        }
      ]
    },
    {
      "cell_type": "code",
      "metadata": {
        "id": "bFnwkUiINe9i",
        "colab": {
          "base_uri": "https://localhost:8080/",
          "height": 335
        },
        "outputId": "a16edcf6-dbba-4bea-be52-1270c13d9f20"
      },
      "source": [
        "pm.plot_acf(y)"
      ],
      "execution_count": null,
      "outputs": [
        {
          "output_type": "stream",
          "name": "stderr",
          "text": [
            "/usr/local/lib/python3.7/dist-packages/pmdarima/utils/visualization.py:223: FutureWarning: the 'unbiased'' keyword is deprecated, use 'adjusted' instead\n",
            "  vlines_kwargs=vlines_kwargs, **kwargs)\n"
          ]
        },
        {
          "output_type": "display_data",
          "data": {
            "text/plain": [
              "<Figure size 432x288 with 1 Axes>"
            ],
            "image/png": "[encoded data removed]"
          },
          "metadata": {
            "needs_background": "light"
          }
        }
      ]
    },
    {
      "cell_type": "markdown",
      "metadata": {
        "id": "kkE3VYxd4j9T"
      },
      "source": [
        "Set up the model and train it on input data."
      ]
    },
    {
      "cell_type": "code",
      "metadata": {
        "id": "gHE4_ZlQPUJT"
      },
      "source": [
        "model=auto_arima(y)"
      ],
      "execution_count": null,
      "outputs": []
    },
    {
      "cell_type": "code",
      "metadata": {
        "id": "iW2ci68eQIcI",
        "colab": {
          "base_uri": "https://localhost:8080/"
        },
        "outputId": "1c5c78b4-9415-4758-c8ee-c9fda04dcf9c"
      },
      "source": [
        "model.fit(y)"
      ],
      "execution_count": null,
      "outputs": [
        {
          "output_type": "execute_result",
          "data": {
            "text/plain": [
              "ARIMA(order=(5, 1, 2), scoring_args={}, suppress_warnings=True)"
            ]
          },
          "metadata": {},
          "execution_count": 16
        }
      ]
    },
    {
      "cell_type": "code",
      "metadata": {
        "id": "c8Ey5IZcQTWL",
        "colab": {
          "base_uri": "https://localhost:8080/",
          "height": 575
        },
        "outputId": "21554516-52ef-458c-a62c-26702565c29f"
      },
      "source": [
        "model.summary()"
      ],
      "execution_count": null,
      "outputs": [
        {
          "output_type": "execute_result",
          "data": {
            "text/plain": [
              "<class 'statsmodels.iolib.summary.Summary'>\n",
              "\"\"\"\n",
              "                               SARIMAX Results                                \n",
              "==============================================================================\n",
              "Dep. Variable:                      y   No. Observations:                  126\n",
              "Model:               SARIMAX(5, 1, 2)   Log Likelihood                1294.736\n",
              "Date:                Thu, 07 Apr 2022   AIC                          -2571.471\n",
              "Time:                        14:39:41   BIC                          -2546.016\n",
              "Sample:                             0   HQIC                         -2561.130\n",
              "                                - 126                                         \n",
              "Covariance Type:                  opg                                         \n",
              "==============================================================================\n",
              "                 coef    std err          z      P>|z|      [0.025      0.975]\n",
              "------------------------------------------------------------------------------\n",
              "intercept  -1.318e-06   3.08e-05     -0.043      0.966   -6.17e-05     5.9e-05\n",
              "ar.L1          0.7849      0.000   1893.822      0.000       0.784       0.786\n",
              "ar.L2          0.4923      0.000   1379.397      0.000       0.492       0.493\n",
              "ar.L3          0.1949      0.000   1184.853      0.000       0.195       0.195\n",
              "ar.L4         -0.1044   8.52e-05  -1225.133      0.000      -0.105      -0.104\n",
              "ar.L5         -0.4028      0.000  -1576.866      0.000      -0.403      -0.402\n",
              "ma.L1      -9.365e-05   1.26e-07   -740.541      0.000   -9.39e-05   -9.34e-05\n",
              "ma.L2          0.0010   3.22e-08   2.98e+04      0.000       0.001       0.001\n",
              "sigma2      7.269e-11   1.05e-09      0.069      0.945   -1.99e-09    2.13e-09\n",
              "===================================================================================\n",
              "Ljung-Box (L1) (Q):                   0.57   Jarque-Bera (JB):             75543.42\n",
              "Prob(Q):                              0.45   Prob(JB):                         0.00\n",
              "Heteroskedasticity (H):               0.02   Skew:                            10.93\n",
              "Prob(H) (two-sided):                  0.00   Kurtosis:                       121.43\n",
              "===================================================================================\n",
              "\n",
              "Warnings:\n",
              "[1] Covariance matrix calculated using the outer product of gradients (complex-step).\n",
              "[2] Covariance matrix is singular or near-singular, with condition number 1.31e+24. Standard errors may be unstable.\n",
              "\"\"\""
            ],
            "text/html": [
              "<table class=\"simpletable\">\n",
              "<caption>SARIMAX Results</caption>\n",
              "<tr>\n",
              "  <th>Dep. Variable:</th>           <td>y</td>        <th>  No. Observations:  </th>    <td>126</td>   \n",
              "</tr>\n",
              "<tr>\n",
              "  <th>Model:</th>           <td>SARIMAX(5, 1, 2)</td> <th>  Log Likelihood     </th> <td>1294.736</td> \n",
              "</tr>\n",
              "<tr>\n",
              "  <th>Date:</th>            <td>Thu, 07 Apr 2022</td> <th>  AIC                </th> <td>-2571.471</td>\n",
              "</tr>\n",
              "<tr>\n",
              "  <th>Time:</th>                <td>14:39:41</td>     <th>  BIC                </th> <td>-2546.016</td>\n",
              "</tr>\n",
              "<tr>\n",
              "  <th>Sample:</th>                  <td>0</td>        <th>  HQIC               </th> <td>-2561.130</td>\n",
              "</tr>\n",
              "<tr>\n",
              "  <th></th>                      <td> - 126</td>      <th>                     </th>     <td> </td>    \n",
              "</tr>\n",
              "<tr>\n",
              "  <th>Covariance Type:</th>        <td>opg</td>       <th>                     </th>     <td> </td>    \n",
              "</tr>\n",
              "</table>\n",
              "<table class=\"simpletable\">\n",
              "<tr>\n",
              "      <td></td>         <th>coef</th>     <th>std err</th>      <th>z</th>      <th>P>|z|</th>  <th>[0.025</th>    <th>0.975]</th>  \n",
              "</tr>\n",
              "<tr>\n",
              "  <th>intercept</th> <td>-1.318e-06</td> <td> 3.08e-05</td> <td>   -0.043</td> <td> 0.966</td> <td>-6.17e-05</td> <td>  5.9e-05</td>\n",
              "</tr>\n",
              "<tr>\n",
              "  <th>ar.L1</th>     <td>    0.7849</td> <td>    0.000</td> <td> 1893.822</td> <td> 0.000</td> <td>    0.784</td> <td>    0.786</td>\n",
              "</tr>\n",
              "<tr>\n",
              "  <th>ar.L2</th>     <td>    0.4923</td> <td>    0.000</td> <td> 1379.397</td> <td> 0.000</td> <td>    0.492</td> <td>    0.493</td>\n",
              "</tr>\n",
              "<tr>\n",
              "  <th>ar.L3</th>     <td>    0.1949</td> <td>    0.000</td> <td> 1184.853</td> <td> 0.000</td> <td>    0.195</td> <td>    0.195</td>\n",
              "</tr>\n",
              "<tr>\n",
              "  <th>ar.L4</th>     <td>   -0.1044</td> <td> 8.52e-05</td> <td>-1225.133</td> <td> 0.000</td> <td>   -0.105</td> <td>   -0.104</td>\n",
              "</tr>\n",
              "<tr>\n",
              "  <th>ar.L5</th>     <td>   -0.4028</td> <td>    0.000</td> <td>-1576.866</td> <td> 0.000</td> <td>   -0.403</td> <td>   -0.402</td>\n",
              "</tr>\n",
              "<tr>\n",
              "  <th>ma.L1</th>     <td>-9.365e-05</td> <td> 1.26e-07</td> <td> -740.541</td> <td> 0.000</td> <td>-9.39e-05</td> <td>-9.34e-05</td>\n",
              "</tr>\n",
              "<tr>\n",
              "  <th>ma.L2</th>     <td>    0.0010</td> <td> 3.22e-08</td> <td> 2.98e+04</td> <td> 0.000</td> <td>    0.001</td> <td>    0.001</td>\n",
              "</tr>\n",
              "<tr>\n",
              "  <th>sigma2</th>    <td> 7.269e-11</td> <td> 1.05e-09</td> <td>    0.069</td> <td> 0.945</td> <td>-1.99e-09</td> <td> 2.13e-09</td>\n",
              "</tr>\n",
              "</table>\n",
              "<table class=\"simpletable\">\n",
              "<tr>\n",
              "  <th>Ljung-Box (L1) (Q):</th>     <td>0.57</td> <th>  Jarque-Bera (JB):  </th> <td>75543.42</td>\n",
              "</tr>\n",
              "<tr>\n",
              "  <th>Prob(Q):</th>                <td>0.45</td> <th>  Prob(JB):          </th>   <td>0.00</td>  \n",
              "</tr>\n",
              "<tr>\n",
              "  <th>Heteroskedasticity (H):</th> <td>0.02</td> <th>  Skew:              </th>   <td>10.93</td> \n",
              "</tr>\n",
              "<tr>\n",
              "  <th>Prob(H) (two-sided):</th>    <td>0.00</td> <th>  Kurtosis:          </th>  <td>121.43</td> \n",
              "</tr>\n",
              "</table><br/><br/>Warnings:<br/>[1] Covariance matrix calculated using the outer product of gradients (complex-step).<br/>[2] Covariance matrix is singular or near-singular, with condition number 1.31e+24. Standard errors may be unstable."
            ]
          },
          "metadata": {},
          "execution_count": 17
        }
      ]
    },
    {
      "cell_type": "markdown",
      "metadata": {
        "id": "xbdflRH54s1g"
      },
      "source": [
        "Make prediction for next 4 pi radians."
      ]
    },
    {
      "cell_type": "code",
      "metadata": {
        "id": "-ojqz4e2RIMf"
      },
      "source": [
        "f=model.predict(n_periods=126)"
      ],
      "execution_count": null,
      "outputs": []
    },
    {
      "cell_type": "code",
      "metadata": {
        "id": "RTSPrzXfSddy",
        "colab": {
          "base_uri": "https://localhost:8080/"
        },
        "outputId": "4efcb678-530b-40b8-9357-53272edc3bc6"
      },
      "source": [
        "print(f)"
      ],
      "execution_count": null,
      "outputs": [
        {
          "output_type": "stream",
          "name": "stdout",
          "text": [
            "[ 0.03362202  0.13322919  0.23150403  0.32746423  0.42015067  0.50863713\n",
            "  0.59203909  0.66952293  0.7403142   0.80370529  0.85906247  0.90583237\n",
            "  0.94354734  0.97183022  0.9903981   0.99906511  0.99774432  0.98644855\n",
            "  0.96529032  0.93448065  0.894327    0.84523018  0.78768035  0.72225212\n",
            "  0.64959882  0.57044593  0.4855839   0.3958602   0.30217088  0.20545159\n",
            "  0.10666827  0.00680747 -0.09313351 -0.19215655 -0.2892727  -0.38351209\n",
            " -0.47393358 -0.55963416 -0.63975801 -0.71350502 -0.78013878 -0.83899397\n",
            " -0.88948297 -0.93110174 -0.96343488 -0.98615975 -0.99904971 -1.00197637\n",
            " -0.99491089 -0.97792425 -0.95118657 -0.91496535 -0.86962289 -0.81561258\n",
            " -0.75347441 -0.68382958 -0.6073743  -0.5248728  -0.43714971 -0.34508185\n",
            " -0.24958942 -0.15162686 -0.05217326  0.04777738  0.14722611  0.24517898\n",
            "  0.34065699  0.43270588  0.52040565  0.60287973  0.67930378  0.74891392\n",
            "  0.81101431  0.86498418  0.91028395  0.94646071  0.97315265  0.99009276\n",
            "  0.99711142  0.99413817  0.98120236  0.95843287  0.92605683  0.88439735\n",
            "  0.83387028  0.77498007  0.70831473  0.63453992  0.55439237  0.46867243\n",
            "  0.37823616  0.28398672  0.18686536  0.08784203 -0.01209432 -0.11194562\n",
            " -0.21071466 -0.30741504 -0.40108103 -0.49077721 -0.57560783 -0.65472576\n",
            " -0.72734094 -0.79272827 -0.85023488 -0.89928662 -0.93939382 -0.97015617\n",
            " -0.99126673 -1.00251499 -1.00378895 -0.9950763  -0.97646447 -0.9481398\n",
            " -0.91038567 -0.86357968 -0.80818984 -0.74476994 -0.67395398 -0.59644985\n",
            " -0.51303227 -0.42453503 -0.33184267 -0.23588165 -0.13761107 -0.03801311]\n"
          ]
        }
      ]
    },
    {
      "cell_type": "markdown",
      "metadata": {
        "id": "3mT8qLEk45V9"
      },
      "source": [
        "Concatenate input and predicted data and plot."
      ]
    },
    {
      "cell_type": "code",
      "metadata": {
        "id": "VOfJQrC7UAas"
      },
      "source": [
        "z=pm.c(y,f)"
      ],
      "execution_count": null,
      "outputs": []
    },
    {
      "cell_type": "code",
      "metadata": {
        "id": "vtFq3lXZUHLg",
        "colab": {
          "base_uri": "https://localhost:8080/",
          "height": 282
        },
        "outputId": "7fc58429-644e-42be-9b84-4a3a0b83dc3e"
      },
      "source": [
        "plt.plot(z)"
      ],
      "execution_count": null,
      "outputs": [
        {
          "output_type": "execute_result",
          "data": {
            "text/plain": [
              "[<matplotlib.lines.Line2D at 0x7fe6acc33350>]"
            ]
          },
          "metadata": {},
          "execution_count": 21
        },
        {
          "output_type": "display_data",
          "data": {
            "text/plain": [
              "<Figure size 432x288 with 1 Axes>"
            ],
            "image/png": "[encoded data removed]"
          },
          "metadata": {
            "needs_background": "light"
          }
        }
      ]
    },
    {
      "cell_type": "markdown",
      "metadata": {
        "id": "2lWyIE3fM2Op"
      },
      "source": [
        "Calculate MAE and MSE"
      ]
    },
    {
      "cell_type": "code",
      "metadata": {
        "id": "hR2BO0Dai_ZT",
        "colab": {
          "base_uri": "https://localhost:8080/"
        },
        "outputId": "d662c94c-757e-4f6d-d360-83313cb81a91"
      },
      "source": [
        "tf.keras.metrics.mean_absolute_error(y,f)"
      ],
      "execution_count": null,
      "outputs": [
        {
          "output_type": "execute_result",
          "data": {
            "text/plain": [
              "<tf.Tensor: shape=(), dtype=float64, numpy=0.0213898667873355>"
            ]
          },
          "metadata": {},
          "execution_count": 22
        }
      ]
    },
    {
      "cell_type": "code",
      "metadata": {
        "id": "D59AmXVtMbiW",
        "colab": {
          "base_uri": "https://localhost:8080/"
        },
        "outputId": "a959a291-2dcf-48b3-8af1-3fa2e446de7c"
      },
      "source": [
        "tf.keras.metrics.mean_squared_error(y,f)"
      ],
      "execution_count": null,
      "outputs": [
        {
          "output_type": "execute_result",
          "data": {
            "text/plain": [
              "<tf.Tensor: shape=(), dtype=float64, numpy=0.0005679380232675704>"
            ]
          },
          "metadata": {},
          "execution_count": 23
        }
      ]
    }
  ]
}